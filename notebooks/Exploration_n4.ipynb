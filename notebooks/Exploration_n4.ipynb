{
 "cells": [
  {
   "cell_type": "code",
   "execution_count": 97,
   "metadata": {},
   "outputs": [],
   "source": [
    "GRAPH_N = 4\n",
    "#INV_NAME = 'cc'\n",
    "INV_NAME = 'num-edges'\n",
    "GRAPH_HTML = 'graph%d.html'% GRAPH_N\n",
    "GRAPH_TITLE = 'coef(T_G) where n(G)=%d' % GRAPH_N"
   ]
  },
  {
   "cell_type": "markdown",
   "metadata": {},
   "source": [
    "#from ripser import ripser\n",
    "#from persim import plot_diagrams"
   ]
  },
  {
   "cell_type": "code",
   "execution_count": 98,
   "metadata": {},
   "outputs": [],
   "source": [
    "import numpy as np\n",
    "import kmapper as km\n",
    "import sklearn\n",
    "from kmapper import jupyter # Creates custom CSS full-size Jupyter screen\n",
    "import warnings\n",
    "warnings.filterwarnings(\"ignore\")\n",
    "from kmapper.plotlyviz import plotlyviz\n",
    "from kmapper.plotlyviz import *\n",
    "import plotly.graph_objs as go"
   ]
  },
  {
   "cell_type": "code",
   "execution_count": 99,
   "metadata": {},
   "outputs": [
    {
     "name": "stdout",
     "output_type": "stream",
     "text": [
      "KeplerMapper()\n"
     ]
    },
    {
     "data": {
      "text/plain": [
       "array([1., 2., 3., 2., 3., 3., 4., 4., 5., 6.])"
      ]
     },
     "execution_count": 99,
     "metadata": {},
     "output_type": "execute_result"
    }
   ],
   "source": [
    "data = np.genfromtxt('../data/vector/vector%d.csv' % GRAPH_N, delimiter=',')\n",
    "colors = np.genfromtxt('../data/inv/graph%d.%s.csv' % (GRAPH_N, INV_NAME))\n",
    "mapper = km.KeplerMapper(verbose=1)\n",
    "\n",
    "colors"
   ]
  },
  {
   "cell_type": "code",
   "execution_count": 100,
   "metadata": {},
   "outputs": [
    {
     "name": "stdout",
     "output_type": "stream",
     "text": [
      "..Composing projection pipeline of length 1:\n",
      "\tProjections: l2norm\n",
      "\tDistance matrices: False\n",
      "\tScalers: None\n",
      "..Projecting on data shaped (10, 16)\n",
      "\n",
      "..Projecting data using: l2norm\n",
      "Mapping on data shaped (10, 16) using lens shaped (10, 1)\n",
      "\n",
      "Creating 20 hypercubes.\n",
      "\n",
      "Created 9 edges and 8 nodes in 0:00:00.061047.\n"
     ]
    }
   ],
   "source": [
    "lens = mapper.fit_transform(data, projection = 'l2norm', scaler=None)\n",
    "#lens = mapper.fit_transform(data, projection = 'l2norm')\n",
    "graph = mapper.map(lens, data, nr_cubes=20, overlap_perc=0.7, clusterer=sklearn.cluster.KMeans(n_clusters=2))\n",
    "#graph = mapper.map(lens, data, nr_cubes=100, overlap_perc=0.7, clusterer=sklearn.cluster.DBSCAN(eps=20))\n",
    "\n",
    "#graph = mapper.map(lens,\n",
    "#                   X=data,\n",
    "#                   clusterer=sklearn.cluster.DBSCAN(eps=20, min_samples=10),\n",
    "#                   cover=km.Cover(n_cubes=20, perc_overlap=0.8))\n",
    "\n",
    "\n",
    "#graph = mapper.map(lens, data, nr_cubes=15, clusterer=sklearn.cluster.KMeans(10))"
   ]
  },
  {
   "cell_type": "code",
   "execution_count": 101,
   "metadata": {},
   "outputs": [
    {
     "data": {
      "application/vnd.jupyter.widget-view+json": {
       "model_id": "a48d6c2037e54c6fa08aabf52fb33f9e",
       "version_major": 2,
       "version_minor": 0
      },
      "text/plain": [
       "VBox(children=(FigureWidget({\n",
       "    'data': [{'hoverinfo': 'none',\n",
       "              'line': {'color': 'rgb(180,180,…"
      ]
     },
     "metadata": {},
     "output_type": "display_data"
    }
   ],
   "source": [
    "fig = plotlyviz(graph, title=GRAPH_TITLE, color_function=colors, color_function_name=INV_NAME, dashboard=True, width=600, height=500, graph_layout='kk', graph_data=True)\n",
    "fig"
   ]
  },
  {
   "cell_type": "code",
   "execution_count": 102,
   "metadata": {},
   "outputs": [
    {
     "name": "stdout",
     "output_type": "stream",
     "text": [
      "Wrote visualization to: graph4.html\n"
     ]
    },
    {
     "data": {
      "text/html": [
       "<iframe src=graph4.html width=100%% height=800 frameBorder=\"0\"></iframe>"
      ],
      "text/plain": [
       "<IPython.core.display.HTML object>"
      ]
     },
     "metadata": {},
     "output_type": "display_data"
    }
   ],
   "source": [
    "html = mapper.visualize(graph, path_html=GRAPH_HTML, title=GRAPH_TITLE, color_function=colors)\n",
    "jupyter.display(path_html=GRAPH_HTML)"
   ]
  },
  {
   "cell_type": "code",
   "execution_count": null,
   "metadata": {},
   "outputs": [],
   "source": []
  },
  {
   "cell_type": "code",
   "execution_count": null,
   "metadata": {},
   "outputs": [],
   "source": []
  },
  {
   "cell_type": "code",
   "execution_count": null,
   "metadata": {},
   "outputs": [],
   "source": []
  },
  {
   "cell_type": "code",
   "execution_count": null,
   "metadata": {},
   "outputs": [],
   "source": []
  },
  {
   "cell_type": "code",
   "execution_count": null,
   "metadata": {},
   "outputs": [],
   "source": []
  }
 ],
 "metadata": {
  "kernelspec": {
   "display_name": "Python 3",
   "language": "python",
   "name": "python3"
  },
  "language_info": {
   "codemirror_mode": {
    "name": "ipython",
    "version": 3
   },
   "file_extension": ".py",
   "mimetype": "text/x-python",
   "name": "python",
   "nbconvert_exporter": "python",
   "pygments_lexer": "ipython3",
   "version": "3.7.2"
  }
 },
 "nbformat": 4,
 "nbformat_minor": 2
}
