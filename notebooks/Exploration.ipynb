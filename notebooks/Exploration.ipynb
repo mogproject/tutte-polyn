{
 "cells": [
  {
   "cell_type": "code",
   "execution_count": 47,
   "metadata": {},
   "outputs": [],
   "source": [
    "GRAPH_N = 6\n",
    "GRAPH_HTML = 'graph%d.html'% GRAPH_N\n",
    "GRAPH_TITLE = 'coef(T_G) where n(G)=%d' % GRAPH_N"
   ]
  },
  {
   "cell_type": "code",
   "execution_count": 48,
   "metadata": {},
   "outputs": [],
   "source": [
    "import numpy as np\n",
    "import kmapper as km\n",
    "import sklearn\n",
    "from kmapper import jupyter # Creates custom CSS full-size Jupyter screen\n",
    "import warnings\n",
    "warnings.filterwarnings(\"ignore\")"
   ]
  },
  {
   "cell_type": "code",
   "execution_count": 49,
   "metadata": {},
   "outputs": [
    {
     "name": "stdout",
     "output_type": "stream",
     "text": [
      "KeplerMapper()\n"
     ]
    }
   ],
   "source": [
    "data = np.genfromtxt('../data/vector/vector%d.csv' % GRAPH_N, delimiter=',')\n",
    "mapper = km.KeplerMapper(verbose=1)"
   ]
  },
  {
   "cell_type": "code",
   "execution_count": 54,
   "metadata": {},
   "outputs": [
    {
     "name": "stdout",
     "output_type": "stream",
     "text": [
      "..Composing projection pipeline of length 1:\n",
      "\tProjections: l2norm\n",
      "\tDistance matrices: False\n",
      "\tScalers: None\n",
      "..Projecting on data shaped (155, 66)\n",
      "\n",
      "..Projecting data using: l2norm\n",
      "Mapping on data shaped (155, 66) using lens shaped (155, 1)\n",
      "\n",
      "Creating 15 hypercubes.\n",
      "\n",
      "Created 0 edges and 14 nodes in 0:00:00.012458.\n"
     ]
    }
   ],
   "source": [
    "lens = mapper.fit_transform(data, projection = 'l2norm', scaler=None)\n",
    "graph = mapper.map(lens, data, nr_cubes=15)\n",
    "#graph = mapper.map(lens, data, nr_cubes=15, clusterer=sklearn.cluster.KMeans(10))"
   ]
  },
  {
   "cell_type": "code",
   "execution_count": 55,
   "metadata": {},
   "outputs": [
    {
     "name": "stdout",
     "output_type": "stream",
     "text": [
      "Wrote visualization to: graph6.html\n"
     ]
    },
    {
     "data": {
      "text/html": [
       "<iframe src=graph6.html width=100%% height=800 frameBorder=\"0\"></iframe>"
      ],
      "text/plain": [
       "<IPython.core.display.HTML object>"
      ]
     },
     "metadata": {},
     "output_type": "display_data"
    }
   ],
   "source": [
    "html = mapper.visualize(graph, path_html=GRAPH_HTML, title=GRAPH_TITLE)\n",
    "jupyter.display(path_html=GRAPH_HTML)"
   ]
  },
  {
   "cell_type": "code",
   "execution_count": null,
   "metadata": {},
   "outputs": [],
   "source": []
  },
  {
   "cell_type": "code",
   "execution_count": null,
   "metadata": {},
   "outputs": [],
   "source": []
  },
  {
   "cell_type": "code",
   "execution_count": null,
   "metadata": {},
   "outputs": [],
   "source": []
  },
  {
   "cell_type": "code",
   "execution_count": null,
   "metadata": {},
   "outputs": [],
   "source": []
  },
  {
   "cell_type": "code",
   "execution_count": null,
   "metadata": {},
   "outputs": [],
   "source": []
  }
 ],
 "metadata": {
  "kernelspec": {
   "display_name": "Python 3",
   "language": "python",
   "name": "python3"
  },
  "language_info": {
   "codemirror_mode": {
    "name": "ipython",
    "version": 3
   },
   "file_extension": ".py",
   "mimetype": "text/x-python",
   "name": "python",
   "nbconvert_exporter": "python",
   "pygments_lexer": "ipython3",
   "version": "3.7.2"
  }
 },
 "nbformat": 4,
 "nbformat_minor": 2
}
