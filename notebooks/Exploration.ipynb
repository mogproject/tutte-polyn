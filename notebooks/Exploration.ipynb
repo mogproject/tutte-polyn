{
 "cells": [
  {
   "cell_type": "code",
   "execution_count": 82,
   "metadata": {},
   "outputs": [],
   "source": [
    "GRAPH_N = 5\n",
    "#INV_NAME = 'cc'\n",
    "#INV_NAME = 'num-edges'\n",
    "INV_NAME = 'conn'\n",
    "GRAPH_HTML = 'graph%d.html'% GRAPH_N\n",
    "GRAPH_TITLE = 'coef(T_G) where n(G)=%d' % GRAPH_N"
   ]
  },
  {
   "cell_type": "markdown",
   "metadata": {},
   "source": [
    "#from ripser import ripser\n",
    "#from persim import plot_diagrams"
   ]
  },
  {
   "cell_type": "code",
   "execution_count": 83,
   "metadata": {},
   "outputs": [],
   "source": [
    "import numpy as np\n",
    "import kmapper as km\n",
    "import sklearn\n",
    "from kmapper import jupyter # Creates custom CSS full-size Jupyter screen\n",
    "import warnings\n",
    "warnings.filterwarnings(\"ignore\")\n",
    "from kmapper.plotlyviz import plotlyviz\n",
    "from kmapper.plotlyviz import *\n",
    "import plotly.graph_objs as go"
   ]
  },
  {
   "cell_type": "code",
   "execution_count": 84,
   "metadata": {},
   "outputs": [
    {
     "name": "stdout",
     "output_type": "stream",
     "text": [
      "KeplerMapper()\n"
     ]
    },
    {
     "data": {
      "text/plain": [
       "array([0., 0., 0., 0., 1., 0., 0., 0., 0., 0., 1., 1., 1., 0., 0., 1., 1.,\n",
       "       1., 1., 0., 1., 1., 1., 0., 1., 1., 1., 1., 1., 1., 1., 1., 1., 1.])"
      ]
     },
     "execution_count": 84,
     "metadata": {},
     "output_type": "execute_result"
    }
   ],
   "source": [
    "data = np.genfromtxt('../data/vector/vector%d.csv' % GRAPH_N, delimiter=',')\n",
    "colors = np.genfromtxt('../data/inv/graph%d.%s.csv' % (GRAPH_N, INV_NAME))\n",
    "mapper = km.KeplerMapper(verbose=1)\n",
    "\n",
    "colors"
   ]
  },
  {
   "cell_type": "code",
   "execution_count": 85,
   "metadata": {},
   "outputs": [
    {
     "name": "stdout",
     "output_type": "stream",
     "text": [
      "..Composing projection pipeline of length 1:\n",
      "\tProjections: l2norm\n",
      "\tDistance matrices: False\n",
      "\tScalers: MinMaxScaler(copy=True, feature_range=(0, 1))\n",
      "..Projecting on data shaped (34, 35)\n",
      "\n",
      "..Projecting data using: l2norm\n",
      "\n",
      "..Scaling with: MinMaxScaler(copy=True, feature_range=(0, 1))\n",
      "\n",
      "Mapping on data shaped (34, 35) using lens shaped (34, 1)\n",
      "\n",
      "Creating 20 hypercubes.\n",
      "\n",
      "Created 23 edges and 16 nodes in 0:00:00.121860.\n"
     ]
    }
   ],
   "source": [
    "#lens = mapper.fit_transform(data, projection = 'l2norm', scaler=None)\n",
    "lens = mapper.fit_transform(data, projection = 'l2norm')\n",
    "graph = mapper.map(lens, data, nr_cubes=20, overlap_perc=0.7, clusterer=sklearn.cluster.KMeans(n_clusters=2))\n",
    "#graph = mapper.map(lens, data, nr_cubes=100, overlap_perc=0.7, clusterer=sklearn.cluster.DBSCAN(eps=20))\n",
    "\n",
    "#graph = mapper.map(lens,\n",
    "#                   X=data,\n",
    "#                   clusterer=sklearn.cluster.DBSCAN(eps=20, min_samples=10),\n",
    "#                   cover=km.Cover(n_cubes=20, perc_overlap=0.8))\n",
    "\n",
    "\n",
    "#graph = mapper.map(lens, data, nr_cubes=15, clusterer=sklearn.cluster.KMeans(10))"
   ]
  },
  {
   "cell_type": "code",
   "execution_count": 86,
   "metadata": {},
   "outputs": [
    {
     "data": {
      "application/vnd.jupyter.widget-view+json": {
       "model_id": "26671a3f77284c0998aaeb384a72660b",
       "version_major": 2,
       "version_minor": 0
      },
      "text/plain": [
       "VBox(children=(FigureWidget({\n",
       "    'data': [{'hoverinfo': 'none',\n",
       "              'line': {'color': 'rgb(180,180,…"
      ]
     },
     "metadata": {},
     "output_type": "display_data"
    }
   ],
   "source": [
    "fig = plotlyviz(graph, title=GRAPH_TITLE, color_function=colors, color_function_name=INV_NAME, dashboard=True, width=600, height=500, graph_layout='kk', graph_data=True)\n",
    "fig"
   ]
  },
  {
   "cell_type": "code",
   "execution_count": 6,
   "metadata": {},
   "outputs": [],
   "source": [
    "#html = mapper.visualize(graph, path_html=GRAPH_HTML, title=GRAPH_TITLE, color_function=colors)\n",
    "#jupyter.display(path_html=GRAPH_HTML)"
   ]
  },
  {
   "cell_type": "code",
   "execution_count": 71,
   "metadata": {},
   "outputs": [
    {
     "name": "stdout",
     "output_type": "stream",
     "text": [
      "{'nodes': defaultdict(<class 'list'>, {'cube1_cluster0': [0, 1, 3, 6], 'cube1_cluster1': [2, 4], 'cube2_cluster0': [1, 2, 4], 'cube2_cluster1': [3, 6], 'cube3_cluster0': [1, 2, 4], 'cube3_cluster1': [3, 6], 'cube4_cluster0': [1, 2, 3, 4, 6, 7], 'cube4_cluster1': [5, 8], 'cube5_cluster0': [5, 8], 'cube5_cluster1': [7], 'cube6_cluster0': [5, 8], 'cube6_cluster1': [7]}), 'links': defaultdict(<class 'list'>, {'cube1_cluster0': ['cube2_cluster0', 'cube2_cluster1', 'cube3_cluster0', 'cube3_cluster1', 'cube4_cluster0'], 'cube1_cluster1': ['cube2_cluster0', 'cube3_cluster0', 'cube4_cluster0'], 'cube2_cluster0': ['cube3_cluster0', 'cube4_cluster0'], 'cube2_cluster1': ['cube3_cluster1', 'cube4_cluster0'], 'cube3_cluster0': ['cube4_cluster0'], 'cube3_cluster1': ['cube4_cluster0'], 'cube4_cluster0': ['cube5_cluster1', 'cube6_cluster1'], 'cube4_cluster1': ['cube5_cluster0', 'cube6_cluster0'], 'cube5_cluster0': ['cube6_cluster0'], 'cube5_cluster1': ['cube6_cluster1']}), 'simplices': [['cube1_cluster0'], ['cube1_cluster1'], ['cube2_cluster0'], ['cube2_cluster1'], ['cube3_cluster0'], ['cube3_cluster1'], ['cube4_cluster0'], ['cube4_cluster1'], ['cube5_cluster0'], ['cube5_cluster1'], ['cube6_cluster0'], ['cube6_cluster1'], ['cube1_cluster0', 'cube2_cluster0'], ['cube1_cluster0', 'cube2_cluster1'], ['cube1_cluster0', 'cube3_cluster0'], ['cube1_cluster0', 'cube3_cluster1'], ['cube1_cluster0', 'cube4_cluster0'], ['cube1_cluster1', 'cube2_cluster0'], ['cube1_cluster1', 'cube3_cluster0'], ['cube1_cluster1', 'cube4_cluster0'], ['cube2_cluster0', 'cube3_cluster0'], ['cube2_cluster0', 'cube4_cluster0'], ['cube2_cluster1', 'cube3_cluster1'], ['cube2_cluster1', 'cube4_cluster0'], ['cube3_cluster0', 'cube4_cluster0'], ['cube3_cluster1', 'cube4_cluster0'], ['cube4_cluster0', 'cube5_cluster1'], ['cube4_cluster0', 'cube6_cluster1'], ['cube4_cluster1', 'cube5_cluster0'], ['cube4_cluster1', 'cube6_cluster0'], ['cube5_cluster0', 'cube6_cluster0'], ['cube5_cluster1', 'cube6_cluster1']], 'meta_data': {'projection': 'l2norm', 'n_cubes': 20, 'perc_overlap': 0.7, 'clusterer': \"KMeans(algorithm='auto', copy_x=True, init='k-means++', max_iter=300,<br>       n_clusters=2, n_init=10, n_jobs=None, precompute_distances='auto',<br>       random_state=None, tol=0.0001, verbose=0)\", 'scaler': 'MinMaxScaler(copy=True, feature_range=(0, 1))', 'color_function': 'num-edges'}, 'meta_nodes': defaultdict(<class 'list'>, {})}\n"
     ]
    }
   ],
   "source": [
    "print(graph)"
   ]
  },
  {
   "cell_type": "code",
   "execution_count": 74,
   "metadata": {},
   "outputs": [
    {
     "data": {
      "text/plain": [
       "'{\"nodes\": {\"cube1_cluster0\": [0, 1, 3, 6], \"cube1_cluster1\": [2, 4], \"cube2_cluster0\": [1, 2, 4], \"cube2_cluster1\": [3, 6], \"cube3_cluster0\": [1, 2, 4], \"cube3_cluster1\": [3, 6], \"cube4_cluster0\": [1, 2, 3, 4, 6, 7], \"cube4_cluster1\": [5, 8], \"cube5_cluster0\": [5, 8], \"cube5_cluster1\": [7], \"cube6_cluster0\": [5, 8], \"cube6_cluster1\": [7]}, \"links\": {\"cube1_cluster0\": [\"cube2_cluster0\", \"cube2_cluster1\", \"cube3_cluster0\", \"cube3_cluster1\", \"cube4_cluster0\"], \"cube1_cluster1\": [\"cube2_cluster0\", \"cube3_cluster0\", \"cube4_cluster0\"], \"cube2_cluster0\": [\"cube3_cluster0\", \"cube4_cluster0\"], \"cube2_cluster1\": [\"cube3_cluster1\", \"cube4_cluster0\"], \"cube3_cluster0\": [\"cube4_cluster0\"], \"cube3_cluster1\": [\"cube4_cluster0\"], \"cube4_cluster0\": [\"cube5_cluster1\", \"cube6_cluster1\"], \"cube4_cluster1\": [\"cube5_cluster0\", \"cube6_cluster0\"], \"cube5_cluster0\": [\"cube6_cluster0\"], \"cube5_cluster1\": [\"cube6_cluster1\"]}, \"simplices\": [[\"cube1_cluster0\"], [\"cube1_cluster1\"], [\"cube2_cluster0\"], [\"cube2_cluster1\"], [\"cube3_cluster0\"], [\"cube3_cluster1\"], [\"cube4_cluster0\"], [\"cube4_cluster1\"], [\"cube5_cluster0\"], [\"cube5_cluster1\"], [\"cube6_cluster0\"], [\"cube6_cluster1\"], [\"cube1_cluster0\", \"cube2_cluster0\"], [\"cube1_cluster0\", \"cube2_cluster1\"], [\"cube1_cluster0\", \"cube3_cluster0\"], [\"cube1_cluster0\", \"cube3_cluster1\"], [\"cube1_cluster0\", \"cube4_cluster0\"], [\"cube1_cluster1\", \"cube2_cluster0\"], [\"cube1_cluster1\", \"cube3_cluster0\"], [\"cube1_cluster1\", \"cube4_cluster0\"], [\"cube2_cluster0\", \"cube3_cluster0\"], [\"cube2_cluster0\", \"cube4_cluster0\"], [\"cube2_cluster1\", \"cube3_cluster1\"], [\"cube2_cluster1\", \"cube4_cluster0\"], [\"cube3_cluster0\", \"cube4_cluster0\"], [\"cube3_cluster1\", \"cube4_cluster0\"], [\"cube4_cluster0\", \"cube5_cluster1\"], [\"cube4_cluster0\", \"cube6_cluster1\"], [\"cube4_cluster1\", \"cube5_cluster0\"], [\"cube4_cluster1\", \"cube6_cluster0\"], [\"cube5_cluster0\", \"cube6_cluster0\"], [\"cube5_cluster1\", \"cube6_cluster1\"]], \"meta_data\": {\"projection\": \"l2norm\", \"n_cubes\": 20, \"perc_overlap\": 0.7, \"clusterer\": \"KMeans(algorithm=\\'auto\\', copy_x=True, init=\\'k-means++\\', max_iter=300,<br>       n_clusters=2, n_init=10, n_jobs=None, precompute_distances=\\'auto\\',<br>       random_state=None, tol=0.0001, verbose=0)\", \"scaler\": \"MinMaxScaler(copy=True, feature_range=(0, 1))\", \"color_function\": \"num-edges\"}, \"meta_nodes\": {}}'"
      ]
     },
     "execution_count": 74,
     "metadata": {},
     "output_type": "execute_result"
    }
   ],
   "source": [
    "import json\n",
    "json.dumps(graph)"
   ]
  },
  {
   "cell_type": "code",
   "execution_count": 75,
   "metadata": {},
   "outputs": [],
   "source": [
    "gg = json.loads(json.dumps(graph))"
   ]
  },
  {
   "cell_type": "code",
   "execution_count": 76,
   "metadata": {},
   "outputs": [
    {
     "data": {
      "application/vnd.jupyter.widget-view+json": {
       "model_id": "2e7b762de1ab4319884e4bb1a8f9461c",
       "version_major": 2,
       "version_minor": 0
      },
      "text/plain": [
       "VBox(children=(FigureWidget({\n",
       "    'data': [{'hoverinfo': 'none',\n",
       "              'line': {'color': 'rgb(180,180,…"
      ]
     },
     "metadata": {},
     "output_type": "display_data"
    }
   ],
   "source": [
    "plotlyviz(gg, title=GRAPH_TITLE, color_function=colors, color_function_name=INV_NAME, dashboard=True, width=600, height=500, graph_layout='kk', graph_data=True)"
   ]
  },
  {
   "cell_type": "code",
   "execution_count": null,
   "metadata": {},
   "outputs": [],
   "source": []
  },
  {
   "cell_type": "code",
   "execution_count": null,
   "metadata": {},
   "outputs": [],
   "source": []
  }
 ],
 "metadata": {
  "kernelspec": {
   "display_name": "Python 3",
   "language": "python",
   "name": "python3"
  },
  "language_info": {
   "codemirror_mode": {
    "name": "ipython",
    "version": 3
   },
   "file_extension": ".py",
   "mimetype": "text/x-python",
   "name": "python",
   "nbconvert_exporter": "python",
   "pygments_lexer": "ipython3",
   "version": "3.7.2"
  }
 },
 "nbformat": 4,
 "nbformat_minor": 2
}
