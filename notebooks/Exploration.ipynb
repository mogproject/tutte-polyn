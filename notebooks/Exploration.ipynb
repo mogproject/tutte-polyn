{
 "cells": [
  {
   "cell_type": "code",
   "execution_count": 22,
   "metadata": {},
   "outputs": [],
   "source": [
    "GRAPH_N = 5\n",
    "MAPPED_PATH = '../data/mapped/mapped%d.json' % GRAPH_N"
   ]
  },
  {
   "cell_type": "code",
   "execution_count": 23,
   "metadata": {},
   "outputs": [],
   "source": [
    "import numpy as np\n",
    "# import kmapper as km\n",
    "# import sklearn\n",
    "# from kmapper import jupyter # Creates custom CSS full-size Jupyter screen\n",
    "import warnings\n",
    "warnings.filterwarnings(\"ignore\")\n",
    "from kmapper.plotlyviz import plotlyviz\n",
    "from kmapper.plotlyviz import *\n",
    "import plotly.graph_objs as go\n",
    "import json"
   ]
  },
  {
   "cell_type": "code",
   "execution_count": 24,
   "metadata": {},
   "outputs": [],
   "source": [
    "pl_matter = [[0.0, 'rgb(253, 237, 176)'], #derived from cmocean.cm.matter https://matplotlib.org/cmocean/\n",
    "             [0.1, 'rgb(250, 202, 143)'],\n",
    "             [0.2, 'rgb(245, 166, 114)'],\n",
    "             [0.3, 'rgb(238, 132, 93)'],\n",
    "             [0.4, 'rgb(226, 97, 82)'],\n",
    "             [0.5, 'rgb(206, 67, 86)'],\n",
    "             [0.6, 'rgb(179, 46, 94)'],\n",
    "             [0.7, 'rgb(147, 31, 99)'],\n",
    "             [0.8, 'rgb(114, 25, 95)'],\n",
    "             [0.9, 'rgb(79, 21, 82)'],\n",
    "             [1.0, 'rgb(47, 15, 61)']]\n",
    "\n",
    "pl_brewer = [[0.0, '#006837'], #from green to red  http://colorbrewer2.org/#type=diverging&scheme=RdYlGn&n=11\n",
    "             [0.1, '#1a9850'],\n",
    "             [0.2, '#66bd63'],\n",
    "             [0.3, '#a6d96a'],\n",
    "             [0.4, '#d9ef8b'],\n",
    "             [0.5, '#ffffbf'],\n",
    "             [0.6, '#fee08b'],\n",
    "             [0.7, '#fdae61'],\n",
    "             [0.8, '#f46d43'],\n",
    "             [0.9, '#d73027'],\n",
    "             [1.0, '#a50026']]\n",
    "\n",
    "pl_jet = [[0.0, 'rgb(0, 0, 127)'], #derived for matplotlib jet\n",
    "          [0.1, 'rgb(0, 0, 241)'],\n",
    "          [0.2, 'rgb(0, 76, 255)'],\n",
    "          [0.3, 'rgb(0, 176, 255)'],\n",
    "          [0.4, 'rgb(41, 255, 205)'],\n",
    "          [0.5, 'rgb(124, 255, 121)'],\n",
    "          [0.6, 'rgb(205, 255, 41)'],\n",
    "          [0.7, 'rgb(255, 196, 0)'],\n",
    "          [0.8, 'rgb(255, 103, 0)'],\n",
    "          [0.9, 'rgb(241, 7, 0)'],\n",
    "          [1.0, 'rgb(127, 0, 0)']]"
   ]
  },
  {
   "cell_type": "code",
   "execution_count": 25,
   "metadata": {},
   "outputs": [],
   "source": [
    "graph = None\n",
    "with open(MAPPED_PATH) as f:\n",
    "    graph = json.load(f)"
   ]
  },
  {
   "cell_type": "code",
   "execution_count": 26,
   "metadata": {},
   "outputs": [
    {
     "data": {
      "application/vnd.plotly.v1+json": {
       "config": {
        "plotlyServerURL": "https://plot.ly"
       },
       "data": [
        {
         "hoverinfo": "none",
         "line": {
          "color": "rgb(180,180,180)",
          "width": 1.5
         },
         "mode": "lines",
         "type": "scatter",
         "uid": "16a3cdf7-8711-4174-9141-12c472089d78",
         "x": [
          1.3298159869020758,
          1.1469072827791906,
          null,
          1.3298159869020758,
          0.328861603852895,
          null,
          -0.3136637439362187,
          -0.7243904444298895,
          null,
          -0.3136637439362187,
          0.328861603852895,
          null,
          -0.3136637439362187,
          -0.5309270210369076,
          null,
          1.1469072827791906,
          0.328861603852895,
          null,
          -0.7243904444298895,
          0.328861603852895,
          null,
          -0.7243904444298895,
          -1.2048240771560235,
          null,
          -0.7243904444298895,
          -0.5309270210369076,
          null,
          0.328861603852895,
          -0.5309270210369076,
          null,
          -1.2048240771560235,
          -0.5309270210369076,
          null,
          -1.2048240771560235,
          -2.213903717651574,
          null,
          -1.2048240771560235,
          -1.7023498965128783,
          null,
          -1.2048240771560235,
          -1.738583887606705,
          null,
          -0.5309270210369076,
          -1.738583887606705,
          null,
          -2.213903717651574,
          -1.7023498965128783,
          null,
          -2.213903717651574,
          -1.738583887606705,
          null,
          -2.213903717651574,
          -2.731522096111749,
          null,
          -1.738583887606705,
          -2.731522096111749,
          null,
          0.25059448189813777,
          -0.7390693820101548,
          null,
          0.25059448189813777,
          -0.03534566882418992,
          null,
          -0.7390693820101548,
          -0.03534566882418992,
          null,
          2.3565112659877583,
          2.7552014817878163,
          null
         ],
         "y": [
          1.3523127368365098,
          2.1985903775655498,
          null,
          1.3523127368365098,
          1.5633384015919314,
          null,
          2.2144683738047304,
          1.5858858701627305,
          null,
          2.2144683738047304,
          1.5633384015919314,
          null,
          2.2144683738047304,
          1.0439404163322545,
          null,
          2.1985903775655498,
          1.5633384015919314,
          null,
          1.5858858701627305,
          1.5633384015919314,
          null,
          1.5858858701627305,
          0.4816966577040794,
          null,
          1.5858858701627305,
          1.0439404163322545,
          null,
          1.5633384015919314,
          1.0439404163322545,
          null,
          0.4816966577040794,
          1.0439404163322545,
          null,
          0.4816966577040794,
          0.2756200759584881,
          null,
          0.4816966577040794,
          -0.44096509429531644,
          null,
          0.4816966577040794,
          1.1641100580798085,
          null,
          1.0439404163322545,
          1.1641100580798085,
          null,
          0.2756200759584881,
          -0.44096509429531644,
          null,
          0.2756200759584881,
          1.1641100580798085,
          null,
          0.2756200759584881,
          0.9939229170012996,
          null,
          1.1641100580798085,
          0.9939229170012996,
          null,
          -2.2906450815992554,
          -2.546964065631075,
          null,
          -2.2906450815992554,
          -3.0504577546610956,
          null,
          -2.546964065631075,
          -3.0504577546610956,
          null,
          -1.2652856269910393,
          -0.4471630511020971,
          null
         ]
        },
        {
         "hoverinfo": "text",
         "marker": {
          "color": [
           0.3473684210526316,
           0.5800000000000001,
           0.3473684210526316,
           0.5833333333333334,
           0.4928571428571429,
           0.6600000000000001,
           0.6000000000000001,
           0.7000000000000001,
           0.7000000000000001,
           0.6500000000000001,
           0.8,
           0.7000000000000001,
           0.8,
           0.8,
           0.8,
           0.8
          ],
          "colorbar": {
           "thickness": 20,
           "tickfont": {
            "size": 10
           },
           "ticklen": 4,
           "x": 1.01
          },
          "colorscale": [
           [
            0,
            "rgb(0, 0, 127)"
           ],
           [
            0.1,
            "rgb(0, 0, 241)"
           ],
           [
            0.2,
            "rgb(0, 76, 255)"
           ],
           [
            0.3,
            "rgb(0, 176, 255)"
           ],
           [
            0.4,
            "rgb(41, 255, 205)"
           ],
           [
            0.5,
            "rgb(124, 255, 121)"
           ],
           [
            0.6,
            "rgb(205, 255, 41)"
           ],
           [
            0.7,
            "rgb(255, 196, 0)"
           ],
           [
            0.8,
            "rgb(255, 103, 0)"
           ],
           [
            0.9,
            "rgb(241, 7, 0)"
           ],
           [
            1,
            "rgb(127, 0, 0)"
           ]
          ],
          "line": {
           "color": "rgb(200,200,200)",
           "width": 1
          },
          "opacity": 1,
          "showscale": true,
          "size": [
           9,
           6,
           9,
           6,
           9,
           6,
           6,
           6,
           6,
           6,
           3,
           3,
           3,
           3,
           3,
           3
          ]
         },
         "mode": "markers",
         "text": [
          "cube0_cluster1",
          "cube0_cluster0",
          "cube1_cluster0",
          "cube1_cluster1",
          "cube2_cluster1",
          "cube2_cluster0",
          "cube3_cluster0",
          "cube3_cluster1",
          "cube4_cluster0",
          "cube4_cluster1",
          "cube5_cluster1",
          "cube5_cluster0",
          "cube6_cluster1",
          "cube6_cluster0",
          "cube7_cluster0",
          "cube7_cluster1"
         ],
         "type": "scatter",
         "uid": "0767388c-37f8-4b17-beb4-4c8ce3d282e1",
         "x": [
          1.3298159869020758,
          -0.3136637439362187,
          1.1469072827791906,
          -0.7243904444298895,
          0.328861603852895,
          -1.2048240771560235,
          -0.5309270210369076,
          -2.213903717651574,
          -1.7023498965128783,
          -1.738583887606705,
          0.25059448189813777,
          -2.731522096111749,
          -0.7390693820101548,
          2.3565112659877583,
          -0.03534566882418992,
          2.7552014817878163
         ],
         "y": [
          1.3523127368365098,
          2.2144683738047304,
          2.1985903775655498,
          1.5858858701627305,
          1.5633384015919314,
          0.4816966577040794,
          1.0439404163322545,
          0.2756200759584881,
          -0.44096509429531644,
          1.1641100580798085,
          -2.2906450815992554,
          0.9939229170012996,
          -2.546964065631075,
          -1.2652856269910393,
          -3.0504577546610956,
          -0.4471630511020971
         ]
        }
       ],
       "layout": {
        "annotations": [
         {
          "align": "left",
          "font": {
           "size": 12
          },
          "showarrow": false,
          "text": "<b>N_cubes:</b> 20 <b>Perc_overlap:</b> 0.7<br><b>Nodes:</b> 16 <b>Edges:</b> 23 <b>Total samples:</b> 87 <b>Unique_samples:</b> 32",
          "x": 0,
          "xanchor": "left",
          "xref": "paper",
          "y": -0.01,
          "yanchor": "top",
          "yref": "paper"
         }
        ],
        "autosize": false,
        "font": {
         "size": 12
        },
        "height": 500,
        "hovermode": "closest",
        "margin": {
         "b": 35,
         "l": 10,
         "r": 60,
         "t": 100
        },
        "plot_bgcolor": "rgba(240, 240, 240, 0.95)",
        "showlegend": false,
        "template": {
         "data": {
          "bar": [
           {
            "error_x": {
             "color": "#2a3f5f"
            },
            "error_y": {
             "color": "#2a3f5f"
            },
            "marker": {
             "line": {
              "color": "#E5ECF6",
              "width": 0.5
             }
            },
            "type": "bar"
           }
          ],
          "barpolar": [
           {
            "marker": {
             "line": {
              "color": "#E5ECF6",
              "width": 0.5
             }
            },
            "type": "barpolar"
           }
          ],
          "carpet": [
           {
            "aaxis": {
             "endlinecolor": "#2a3f5f",
             "gridcolor": "white",
             "linecolor": "white",
             "minorgridcolor": "white",
             "startlinecolor": "#2a3f5f"
            },
            "baxis": {
             "endlinecolor": "#2a3f5f",
             "gridcolor": "white",
             "linecolor": "white",
             "minorgridcolor": "white",
             "startlinecolor": "#2a3f5f"
            },
            "type": "carpet"
           }
          ],
          "choropleth": [
           {
            "colorbar": {
             "outlinewidth": 0,
             "ticks": ""
            },
            "type": "choropleth"
           }
          ],
          "contour": [
           {
            "colorbar": {
             "outlinewidth": 0,
             "ticks": ""
            },
            "colorscale": [
             [
              0,
              "#0d0887"
             ],
             [
              0.1111111111111111,
              "#46039f"
             ],
             [
              0.2222222222222222,
              "#7201a8"
             ],
             [
              0.3333333333333333,
              "#9c179e"
             ],
             [
              0.4444444444444444,
              "#bd3786"
             ],
             [
              0.5555555555555556,
              "#d8576b"
             ],
             [
              0.6666666666666666,
              "#ed7953"
             ],
             [
              0.7777777777777778,
              "#fb9f3a"
             ],
             [
              0.8888888888888888,
              "#fdca26"
             ],
             [
              1,
              "#f0f921"
             ]
            ],
            "type": "contour"
           }
          ],
          "contourcarpet": [
           {
            "colorbar": {
             "outlinewidth": 0,
             "ticks": ""
            },
            "type": "contourcarpet"
           }
          ],
          "heatmap": [
           {
            "colorbar": {
             "outlinewidth": 0,
             "ticks": ""
            },
            "colorscale": [
             [
              0,
              "#0d0887"
             ],
             [
              0.1111111111111111,
              "#46039f"
             ],
             [
              0.2222222222222222,
              "#7201a8"
             ],
             [
              0.3333333333333333,
              "#9c179e"
             ],
             [
              0.4444444444444444,
              "#bd3786"
             ],
             [
              0.5555555555555556,
              "#d8576b"
             ],
             [
              0.6666666666666666,
              "#ed7953"
             ],
             [
              0.7777777777777778,
              "#fb9f3a"
             ],
             [
              0.8888888888888888,
              "#fdca26"
             ],
             [
              1,
              "#f0f921"
             ]
            ],
            "type": "heatmap"
           }
          ],
          "heatmapgl": [
           {
            "colorbar": {
             "outlinewidth": 0,
             "ticks": ""
            },
            "colorscale": [
             [
              0,
              "#0d0887"
             ],
             [
              0.1111111111111111,
              "#46039f"
             ],
             [
              0.2222222222222222,
              "#7201a8"
             ],
             [
              0.3333333333333333,
              "#9c179e"
             ],
             [
              0.4444444444444444,
              "#bd3786"
             ],
             [
              0.5555555555555556,
              "#d8576b"
             ],
             [
              0.6666666666666666,
              "#ed7953"
             ],
             [
              0.7777777777777778,
              "#fb9f3a"
             ],
             [
              0.8888888888888888,
              "#fdca26"
             ],
             [
              1,
              "#f0f921"
             ]
            ],
            "type": "heatmapgl"
           }
          ],
          "histogram": [
           {
            "marker": {
             "colorbar": {
              "outlinewidth": 0,
              "ticks": ""
             }
            },
            "type": "histogram"
           }
          ],
          "histogram2d": [
           {
            "colorbar": {
             "outlinewidth": 0,
             "ticks": ""
            },
            "colorscale": [
             [
              0,
              "#0d0887"
             ],
             [
              0.1111111111111111,
              "#46039f"
             ],
             [
              0.2222222222222222,
              "#7201a8"
             ],
             [
              0.3333333333333333,
              "#9c179e"
             ],
             [
              0.4444444444444444,
              "#bd3786"
             ],
             [
              0.5555555555555556,
              "#d8576b"
             ],
             [
              0.6666666666666666,
              "#ed7953"
             ],
             [
              0.7777777777777778,
              "#fb9f3a"
             ],
             [
              0.8888888888888888,
              "#fdca26"
             ],
             [
              1,
              "#f0f921"
             ]
            ],
            "type": "histogram2d"
           }
          ],
          "histogram2dcontour": [
           {
            "colorbar": {
             "outlinewidth": 0,
             "ticks": ""
            },
            "colorscale": [
             [
              0,
              "#0d0887"
             ],
             [
              0.1111111111111111,
              "#46039f"
             ],
             [
              0.2222222222222222,
              "#7201a8"
             ],
             [
              0.3333333333333333,
              "#9c179e"
             ],
             [
              0.4444444444444444,
              "#bd3786"
             ],
             [
              0.5555555555555556,
              "#d8576b"
             ],
             [
              0.6666666666666666,
              "#ed7953"
             ],
             [
              0.7777777777777778,
              "#fb9f3a"
             ],
             [
              0.8888888888888888,
              "#fdca26"
             ],
             [
              1,
              "#f0f921"
             ]
            ],
            "type": "histogram2dcontour"
           }
          ],
          "mesh3d": [
           {
            "colorbar": {
             "outlinewidth": 0,
             "ticks": ""
            },
            "type": "mesh3d"
           }
          ],
          "parcoords": [
           {
            "line": {
             "colorbar": {
              "outlinewidth": 0,
              "ticks": ""
             }
            },
            "type": "parcoords"
           }
          ],
          "pie": [
           {
            "automargin": true,
            "type": "pie"
           }
          ],
          "scatter": [
           {
            "marker": {
             "colorbar": {
              "outlinewidth": 0,
              "ticks": ""
             }
            },
            "type": "scatter"
           }
          ],
          "scatter3d": [
           {
            "line": {
             "colorbar": {
              "outlinewidth": 0,
              "ticks": ""
             }
            },
            "marker": {
             "colorbar": {
              "outlinewidth": 0,
              "ticks": ""
             }
            },
            "type": "scatter3d"
           }
          ],
          "scattercarpet": [
           {
            "marker": {
             "colorbar": {
              "outlinewidth": 0,
              "ticks": ""
             }
            },
            "type": "scattercarpet"
           }
          ],
          "scattergeo": [
           {
            "marker": {
             "colorbar": {
              "outlinewidth": 0,
              "ticks": ""
             }
            },
            "type": "scattergeo"
           }
          ],
          "scattergl": [
           {
            "marker": {
             "colorbar": {
              "outlinewidth": 0,
              "ticks": ""
             }
            },
            "type": "scattergl"
           }
          ],
          "scattermapbox": [
           {
            "marker": {
             "colorbar": {
              "outlinewidth": 0,
              "ticks": ""
             }
            },
            "type": "scattermapbox"
           }
          ],
          "scatterpolar": [
           {
            "marker": {
             "colorbar": {
              "outlinewidth": 0,
              "ticks": ""
             }
            },
            "type": "scatterpolar"
           }
          ],
          "scatterpolargl": [
           {
            "marker": {
             "colorbar": {
              "outlinewidth": 0,
              "ticks": ""
             }
            },
            "type": "scatterpolargl"
           }
          ],
          "scatterternary": [
           {
            "marker": {
             "colorbar": {
              "outlinewidth": 0,
              "ticks": ""
             }
            },
            "type": "scatterternary"
           }
          ],
          "surface": [
           {
            "colorbar": {
             "outlinewidth": 0,
             "ticks": ""
            },
            "colorscale": [
             [
              0,
              "#0d0887"
             ],
             [
              0.1111111111111111,
              "#46039f"
             ],
             [
              0.2222222222222222,
              "#7201a8"
             ],
             [
              0.3333333333333333,
              "#9c179e"
             ],
             [
              0.4444444444444444,
              "#bd3786"
             ],
             [
              0.5555555555555556,
              "#d8576b"
             ],
             [
              0.6666666666666666,
              "#ed7953"
             ],
             [
              0.7777777777777778,
              "#fb9f3a"
             ],
             [
              0.8888888888888888,
              "#fdca26"
             ],
             [
              1,
              "#f0f921"
             ]
            ],
            "type": "surface"
           }
          ],
          "table": [
           {
            "cells": {
             "fill": {
              "color": "#EBF0F8"
             },
             "line": {
              "color": "white"
             }
            },
            "header": {
             "fill": {
              "color": "#C8D4E3"
             },
             "line": {
              "color": "white"
             }
            },
            "type": "table"
           }
          ]
         },
         "layout": {
          "annotationdefaults": {
           "arrowcolor": "#2a3f5f",
           "arrowhead": 0,
           "arrowwidth": 1
          },
          "coloraxis": {
           "colorbar": {
            "outlinewidth": 0,
            "ticks": ""
           }
          },
          "colorscale": {
           "diverging": [
            [
             0,
             "#8e0152"
            ],
            [
             0.1,
             "#c51b7d"
            ],
            [
             0.2,
             "#de77ae"
            ],
            [
             0.3,
             "#f1b6da"
            ],
            [
             0.4,
             "#fde0ef"
            ],
            [
             0.5,
             "#f7f7f7"
            ],
            [
             0.6,
             "#e6f5d0"
            ],
            [
             0.7,
             "#b8e186"
            ],
            [
             0.8,
             "#7fbc41"
            ],
            [
             0.9,
             "#4d9221"
            ],
            [
             1,
             "#276419"
            ]
           ],
           "sequential": [
            [
             0,
             "#0d0887"
            ],
            [
             0.1111111111111111,
             "#46039f"
            ],
            [
             0.2222222222222222,
             "#7201a8"
            ],
            [
             0.3333333333333333,
             "#9c179e"
            ],
            [
             0.4444444444444444,
             "#bd3786"
            ],
            [
             0.5555555555555556,
             "#d8576b"
            ],
            [
             0.6666666666666666,
             "#ed7953"
            ],
            [
             0.7777777777777778,
             "#fb9f3a"
            ],
            [
             0.8888888888888888,
             "#fdca26"
            ],
            [
             1,
             "#f0f921"
            ]
           ],
           "sequentialminus": [
            [
             0,
             "#0d0887"
            ],
            [
             0.1111111111111111,
             "#46039f"
            ],
            [
             0.2222222222222222,
             "#7201a8"
            ],
            [
             0.3333333333333333,
             "#9c179e"
            ],
            [
             0.4444444444444444,
             "#bd3786"
            ],
            [
             0.5555555555555556,
             "#d8576b"
            ],
            [
             0.6666666666666666,
             "#ed7953"
            ],
            [
             0.7777777777777778,
             "#fb9f3a"
            ],
            [
             0.8888888888888888,
             "#fdca26"
            ],
            [
             1,
             "#f0f921"
            ]
           ]
          },
          "colorway": [
           "#636efa",
           "#EF553B",
           "#00cc96",
           "#ab63fa",
           "#FFA15A",
           "#19d3f3",
           "#FF6692",
           "#B6E880",
           "#FF97FF",
           "#FECB52"
          ],
          "font": {
           "color": "#2a3f5f"
          },
          "geo": {
           "bgcolor": "white",
           "lakecolor": "white",
           "landcolor": "#E5ECF6",
           "showlakes": true,
           "showland": true,
           "subunitcolor": "white"
          },
          "hoverlabel": {
           "align": "left"
          },
          "hovermode": "closest",
          "mapbox": {
           "style": "light"
          },
          "paper_bgcolor": "white",
          "plot_bgcolor": "#E5ECF6",
          "polar": {
           "angularaxis": {
            "gridcolor": "white",
            "linecolor": "white",
            "ticks": ""
           },
           "bgcolor": "#E5ECF6",
           "radialaxis": {
            "gridcolor": "white",
            "linecolor": "white",
            "ticks": ""
           }
          },
          "scene": {
           "xaxis": {
            "backgroundcolor": "#E5ECF6",
            "gridcolor": "white",
            "gridwidth": 2,
            "linecolor": "white",
            "showbackground": true,
            "ticks": "",
            "zerolinecolor": "white"
           },
           "yaxis": {
            "backgroundcolor": "#E5ECF6",
            "gridcolor": "white",
            "gridwidth": 2,
            "linecolor": "white",
            "showbackground": true,
            "ticks": "",
            "zerolinecolor": "white"
           },
           "zaxis": {
            "backgroundcolor": "#E5ECF6",
            "gridcolor": "white",
            "gridwidth": 2,
            "linecolor": "white",
            "showbackground": true,
            "ticks": "",
            "zerolinecolor": "white"
           }
          },
          "shapedefaults": {
           "line": {
            "color": "#2a3f5f"
           }
          },
          "ternary": {
           "aaxis": {
            "gridcolor": "white",
            "linecolor": "white",
            "ticks": ""
           },
           "baxis": {
            "gridcolor": "white",
            "linecolor": "white",
            "ticks": ""
           },
           "bgcolor": "#E5ECF6",
           "caxis": {
            "gridcolor": "white",
            "linecolor": "white",
            "ticks": ""
           }
          },
          "title": {
           "x": 0.05
          },
          "xaxis": {
           "automargin": true,
           "gridcolor": "white",
           "linecolor": "white",
           "ticks": "",
           "title": {
            "standoff": 15
           },
           "zerolinecolor": "white",
           "zerolinewidth": 2
          },
          "yaxis": {
           "automargin": true,
           "gridcolor": "white",
           "linecolor": "white",
           "ticks": "",
           "title": {
            "standoff": 15
           },
           "zerolinecolor": "white",
           "zerolinewidth": 2
          }
         }
        },
        "title": {
         "text": "n=5, color=num-edges"
        },
        "width": 600,
        "xaxis": {
         "visible": false
        },
        "yaxis": {
         "visible": false
        }
       }
      },
      "text/html": [
       "<div>\n",
       "        \n",
       "        \n",
       "            <div id=\"f650e4ba-216e-4705-ac99-c2199c3b6935\" class=\"plotly-graph-div\" style=\"height:500px; width:600px;\"></div>\n",
       "            <script type=\"text/javascript\">\n",
       "                require([\"plotly\"], function(Plotly) {\n",
       "                    window.PLOTLYENV=window.PLOTLYENV || {};\n",
       "                    \n",
       "                if (document.getElementById(\"f650e4ba-216e-4705-ac99-c2199c3b6935\")) {\n",
       "                    Plotly.newPlot(\n",
       "                        'f650e4ba-216e-4705-ac99-c2199c3b6935',\n",
       "                        [{\"hoverinfo\": \"none\", \"line\": {\"color\": \"rgb(180,180,180)\", \"width\": 1.5}, \"mode\": \"lines\", \"type\": \"scatter\", \"uid\": \"16a3cdf7-8711-4174-9141-12c472089d78\", \"x\": [1.3298159869020758, 1.1469072827791906, null, 1.3298159869020758, 0.328861603852895, null, -0.3136637439362187, -0.7243904444298895, null, -0.3136637439362187, 0.328861603852895, null, -0.3136637439362187, -0.5309270210369076, null, 1.1469072827791906, 0.328861603852895, null, -0.7243904444298895, 0.328861603852895, null, -0.7243904444298895, -1.2048240771560235, null, -0.7243904444298895, -0.5309270210369076, null, 0.328861603852895, -0.5309270210369076, null, -1.2048240771560235, -0.5309270210369076, null, -1.2048240771560235, -2.213903717651574, null, -1.2048240771560235, -1.7023498965128783, null, -1.2048240771560235, -1.738583887606705, null, -0.5309270210369076, -1.738583887606705, null, -2.213903717651574, -1.7023498965128783, null, -2.213903717651574, -1.738583887606705, null, -2.213903717651574, -2.731522096111749, null, -1.738583887606705, -2.731522096111749, null, 0.25059448189813777, -0.7390693820101548, null, 0.25059448189813777, -0.03534566882418992, null, -0.7390693820101548, -0.03534566882418992, null, 2.3565112659877583, 2.7552014817878163, null], \"y\": [1.3523127368365098, 2.1985903775655498, null, 1.3523127368365098, 1.5633384015919314, null, 2.2144683738047304, 1.5858858701627305, null, 2.2144683738047304, 1.5633384015919314, null, 2.2144683738047304, 1.0439404163322545, null, 2.1985903775655498, 1.5633384015919314, null, 1.5858858701627305, 1.5633384015919314, null, 1.5858858701627305, 0.4816966577040794, null, 1.5858858701627305, 1.0439404163322545, null, 1.5633384015919314, 1.0439404163322545, null, 0.4816966577040794, 1.0439404163322545, null, 0.4816966577040794, 0.2756200759584881, null, 0.4816966577040794, -0.44096509429531644, null, 0.4816966577040794, 1.1641100580798085, null, 1.0439404163322545, 1.1641100580798085, null, 0.2756200759584881, -0.44096509429531644, null, 0.2756200759584881, 1.1641100580798085, null, 0.2756200759584881, 0.9939229170012996, null, 1.1641100580798085, 0.9939229170012996, null, -2.2906450815992554, -2.546964065631075, null, -2.2906450815992554, -3.0504577546610956, null, -2.546964065631075, -3.0504577546610956, null, -1.2652856269910393, -0.4471630511020971, null]}, {\"hoverinfo\": \"text\", \"marker\": {\"color\": [0.3473684210526316, 0.5800000000000001, 0.3473684210526316, 0.5833333333333334, 0.4928571428571429, 0.6600000000000001, 0.6000000000000001, 0.7000000000000001, 0.7000000000000001, 0.6500000000000001, 0.8, 0.7000000000000001, 0.8, 0.8, 0.8, 0.8], \"colorbar\": {\"thickness\": 20, \"tickfont\": {\"size\": 10}, \"ticklen\": 4, \"x\": 1.01}, \"colorscale\": [[0.0, \"rgb(0, 0, 127)\"], [0.1, \"rgb(0, 0, 241)\"], [0.2, \"rgb(0, 76, 255)\"], [0.3, \"rgb(0, 176, 255)\"], [0.4, \"rgb(41, 255, 205)\"], [0.5, \"rgb(124, 255, 121)\"], [0.6, \"rgb(205, 255, 41)\"], [0.7, \"rgb(255, 196, 0)\"], [0.8, \"rgb(255, 103, 0)\"], [0.9, \"rgb(241, 7, 0)\"], [1.0, \"rgb(127, 0, 0)\"]], \"line\": {\"color\": \"rgb(200,200,200)\", \"width\": 1.0}, \"opacity\": 1.0, \"showscale\": true, \"size\": [9, 6, 9, 6, 9, 6, 6, 6, 6, 6, 3, 3, 3, 3, 3, 3]}, \"mode\": \"markers\", \"text\": [\"cube0_cluster1\", \"cube0_cluster0\", \"cube1_cluster0\", \"cube1_cluster1\", \"cube2_cluster1\", \"cube2_cluster0\", \"cube3_cluster0\", \"cube3_cluster1\", \"cube4_cluster0\", \"cube4_cluster1\", \"cube5_cluster1\", \"cube5_cluster0\", \"cube6_cluster1\", \"cube6_cluster0\", \"cube7_cluster0\", \"cube7_cluster1\"], \"type\": \"scatter\", \"uid\": \"0767388c-37f8-4b17-beb4-4c8ce3d282e1\", \"x\": [1.3298159869020758, -0.3136637439362187, 1.1469072827791906, -0.7243904444298895, 0.328861603852895, -1.2048240771560235, -0.5309270210369076, -2.213903717651574, -1.7023498965128783, -1.738583887606705, 0.25059448189813777, -2.731522096111749, -0.7390693820101548, 2.3565112659877583, -0.03534566882418992, 2.7552014817878163], \"y\": [1.3523127368365098, 2.2144683738047304, 2.1985903775655498, 1.5858858701627305, 1.5633384015919314, 0.4816966577040794, 1.0439404163322545, 0.2756200759584881, -0.44096509429531644, 1.1641100580798085, -2.2906450815992554, 0.9939229170012996, -2.546964065631075, -1.2652856269910393, -3.0504577546610956, -0.4471630511020971]}],\n",
       "                        {\"annotations\": [{\"align\": \"left\", \"font\": {\"size\": 12}, \"showarrow\": false, \"text\": \"<b>N_cubes:</b> 20 <b>Perc_overlap:</b> 0.7<br><b>Nodes:</b> 16 <b>Edges:</b> 23 <b>Total samples:</b> 87 <b>Unique_samples:</b> 32\", \"x\": 0, \"xanchor\": \"left\", \"xref\": \"paper\", \"y\": -0.01, \"yanchor\": \"top\", \"yref\": \"paper\"}], \"autosize\": false, \"font\": {\"size\": 12}, \"height\": 500, \"hovermode\": \"closest\", \"margin\": {\"b\": 35, \"l\": 10, \"r\": 60, \"t\": 100}, \"plot_bgcolor\": \"rgba(240, 240, 240, 0.95)\", \"showlegend\": false, \"template\": {\"data\": {\"bar\": [{\"error_x\": {\"color\": \"#2a3f5f\"}, \"error_y\": {\"color\": \"#2a3f5f\"}, \"marker\": {\"line\": {\"color\": \"#E5ECF6\", \"width\": 0.5}}, \"type\": \"bar\"}], \"barpolar\": [{\"marker\": {\"line\": {\"color\": \"#E5ECF6\", \"width\": 0.5}}, \"type\": \"barpolar\"}], \"carpet\": [{\"aaxis\": {\"endlinecolor\": \"#2a3f5f\", \"gridcolor\": \"white\", \"linecolor\": \"white\", \"minorgridcolor\": \"white\", \"startlinecolor\": \"#2a3f5f\"}, \"baxis\": {\"endlinecolor\": \"#2a3f5f\", \"gridcolor\": \"white\", \"linecolor\": \"white\", \"minorgridcolor\": \"white\", \"startlinecolor\": \"#2a3f5f\"}, \"type\": \"carpet\"}], \"choropleth\": [{\"colorbar\": {\"outlinewidth\": 0, \"ticks\": \"\"}, \"type\": \"choropleth\"}], \"contour\": [{\"colorbar\": {\"outlinewidth\": 0, \"ticks\": \"\"}, \"colorscale\": [[0.0, \"#0d0887\"], [0.1111111111111111, \"#46039f\"], [0.2222222222222222, \"#7201a8\"], [0.3333333333333333, \"#9c179e\"], [0.4444444444444444, \"#bd3786\"], [0.5555555555555556, \"#d8576b\"], [0.6666666666666666, \"#ed7953\"], [0.7777777777777778, \"#fb9f3a\"], [0.8888888888888888, \"#fdca26\"], [1.0, \"#f0f921\"]], \"type\": \"contour\"}], \"contourcarpet\": [{\"colorbar\": {\"outlinewidth\": 0, \"ticks\": \"\"}, \"type\": \"contourcarpet\"}], \"heatmap\": [{\"colorbar\": {\"outlinewidth\": 0, \"ticks\": \"\"}, \"colorscale\": [[0.0, \"#0d0887\"], [0.1111111111111111, \"#46039f\"], [0.2222222222222222, \"#7201a8\"], [0.3333333333333333, \"#9c179e\"], [0.4444444444444444, \"#bd3786\"], [0.5555555555555556, \"#d8576b\"], [0.6666666666666666, \"#ed7953\"], [0.7777777777777778, \"#fb9f3a\"], [0.8888888888888888, \"#fdca26\"], [1.0, \"#f0f921\"]], \"type\": \"heatmap\"}], \"heatmapgl\": [{\"colorbar\": {\"outlinewidth\": 0, \"ticks\": \"\"}, \"colorscale\": [[0.0, \"#0d0887\"], [0.1111111111111111, \"#46039f\"], [0.2222222222222222, \"#7201a8\"], [0.3333333333333333, \"#9c179e\"], [0.4444444444444444, \"#bd3786\"], [0.5555555555555556, \"#d8576b\"], [0.6666666666666666, \"#ed7953\"], [0.7777777777777778, \"#fb9f3a\"], [0.8888888888888888, \"#fdca26\"], [1.0, \"#f0f921\"]], \"type\": \"heatmapgl\"}], \"histogram\": [{\"marker\": {\"colorbar\": {\"outlinewidth\": 0, \"ticks\": \"\"}}, \"type\": \"histogram\"}], \"histogram2d\": [{\"colorbar\": {\"outlinewidth\": 0, \"ticks\": \"\"}, \"colorscale\": [[0.0, \"#0d0887\"], [0.1111111111111111, \"#46039f\"], [0.2222222222222222, \"#7201a8\"], [0.3333333333333333, \"#9c179e\"], [0.4444444444444444, \"#bd3786\"], [0.5555555555555556, \"#d8576b\"], [0.6666666666666666, \"#ed7953\"], [0.7777777777777778, \"#fb9f3a\"], [0.8888888888888888, \"#fdca26\"], [1.0, \"#f0f921\"]], \"type\": \"histogram2d\"}], \"histogram2dcontour\": [{\"colorbar\": {\"outlinewidth\": 0, \"ticks\": \"\"}, \"colorscale\": [[0.0, \"#0d0887\"], [0.1111111111111111, \"#46039f\"], [0.2222222222222222, \"#7201a8\"], [0.3333333333333333, \"#9c179e\"], [0.4444444444444444, \"#bd3786\"], [0.5555555555555556, \"#d8576b\"], [0.6666666666666666, \"#ed7953\"], [0.7777777777777778, \"#fb9f3a\"], [0.8888888888888888, \"#fdca26\"], [1.0, \"#f0f921\"]], \"type\": \"histogram2dcontour\"}], \"mesh3d\": [{\"colorbar\": {\"outlinewidth\": 0, \"ticks\": \"\"}, \"type\": \"mesh3d\"}], \"parcoords\": [{\"line\": {\"colorbar\": {\"outlinewidth\": 0, \"ticks\": \"\"}}, \"type\": \"parcoords\"}], \"pie\": [{\"automargin\": true, \"type\": \"pie\"}], \"scatter\": [{\"marker\": {\"colorbar\": {\"outlinewidth\": 0, \"ticks\": \"\"}}, \"type\": \"scatter\"}], \"scatter3d\": [{\"line\": {\"colorbar\": {\"outlinewidth\": 0, \"ticks\": \"\"}}, \"marker\": {\"colorbar\": {\"outlinewidth\": 0, \"ticks\": \"\"}}, \"type\": \"scatter3d\"}], \"scattercarpet\": [{\"marker\": {\"colorbar\": {\"outlinewidth\": 0, \"ticks\": \"\"}}, \"type\": \"scattercarpet\"}], \"scattergeo\": [{\"marker\": {\"colorbar\": {\"outlinewidth\": 0, \"ticks\": \"\"}}, \"type\": \"scattergeo\"}], \"scattergl\": [{\"marker\": {\"colorbar\": {\"outlinewidth\": 0, \"ticks\": \"\"}}, \"type\": \"scattergl\"}], \"scattermapbox\": [{\"marker\": {\"colorbar\": {\"outlinewidth\": 0, \"ticks\": \"\"}}, \"type\": \"scattermapbox\"}], \"scatterpolar\": [{\"marker\": {\"colorbar\": {\"outlinewidth\": 0, \"ticks\": \"\"}}, \"type\": \"scatterpolar\"}], \"scatterpolargl\": [{\"marker\": {\"colorbar\": {\"outlinewidth\": 0, \"ticks\": \"\"}}, \"type\": \"scatterpolargl\"}], \"scatterternary\": [{\"marker\": {\"colorbar\": {\"outlinewidth\": 0, \"ticks\": \"\"}}, \"type\": \"scatterternary\"}], \"surface\": [{\"colorbar\": {\"outlinewidth\": 0, \"ticks\": \"\"}, \"colorscale\": [[0.0, \"#0d0887\"], [0.1111111111111111, \"#46039f\"], [0.2222222222222222, \"#7201a8\"], [0.3333333333333333, \"#9c179e\"], [0.4444444444444444, \"#bd3786\"], [0.5555555555555556, \"#d8576b\"], [0.6666666666666666, \"#ed7953\"], [0.7777777777777778, \"#fb9f3a\"], [0.8888888888888888, \"#fdca26\"], [1.0, \"#f0f921\"]], \"type\": \"surface\"}], \"table\": [{\"cells\": {\"fill\": {\"color\": \"#EBF0F8\"}, \"line\": {\"color\": \"white\"}}, \"header\": {\"fill\": {\"color\": \"#C8D4E3\"}, \"line\": {\"color\": \"white\"}}, \"type\": \"table\"}]}, \"layout\": {\"annotationdefaults\": {\"arrowcolor\": \"#2a3f5f\", \"arrowhead\": 0, \"arrowwidth\": 1}, \"coloraxis\": {\"colorbar\": {\"outlinewidth\": 0, \"ticks\": \"\"}}, \"colorscale\": {\"diverging\": [[0, \"#8e0152\"], [0.1, \"#c51b7d\"], [0.2, \"#de77ae\"], [0.3, \"#f1b6da\"], [0.4, \"#fde0ef\"], [0.5, \"#f7f7f7\"], [0.6, \"#e6f5d0\"], [0.7, \"#b8e186\"], [0.8, \"#7fbc41\"], [0.9, \"#4d9221\"], [1, \"#276419\"]], \"sequential\": [[0.0, \"#0d0887\"], [0.1111111111111111, \"#46039f\"], [0.2222222222222222, \"#7201a8\"], [0.3333333333333333, \"#9c179e\"], [0.4444444444444444, \"#bd3786\"], [0.5555555555555556, \"#d8576b\"], [0.6666666666666666, \"#ed7953\"], [0.7777777777777778, \"#fb9f3a\"], [0.8888888888888888, \"#fdca26\"], [1.0, \"#f0f921\"]], \"sequentialminus\": [[0.0, \"#0d0887\"], [0.1111111111111111, \"#46039f\"], [0.2222222222222222, \"#7201a8\"], [0.3333333333333333, \"#9c179e\"], [0.4444444444444444, \"#bd3786\"], [0.5555555555555556, \"#d8576b\"], [0.6666666666666666, \"#ed7953\"], [0.7777777777777778, \"#fb9f3a\"], [0.8888888888888888, \"#fdca26\"], [1.0, \"#f0f921\"]]}, \"colorway\": [\"#636efa\", \"#EF553B\", \"#00cc96\", \"#ab63fa\", \"#FFA15A\", \"#19d3f3\", \"#FF6692\", \"#B6E880\", \"#FF97FF\", \"#FECB52\"], \"font\": {\"color\": \"#2a3f5f\"}, \"geo\": {\"bgcolor\": \"white\", \"lakecolor\": \"white\", \"landcolor\": \"#E5ECF6\", \"showlakes\": true, \"showland\": true, \"subunitcolor\": \"white\"}, \"hoverlabel\": {\"align\": \"left\"}, \"hovermode\": \"closest\", \"mapbox\": {\"style\": \"light\"}, \"paper_bgcolor\": \"white\", \"plot_bgcolor\": \"#E5ECF6\", \"polar\": {\"angularaxis\": {\"gridcolor\": \"white\", \"linecolor\": \"white\", \"ticks\": \"\"}, \"bgcolor\": \"#E5ECF6\", \"radialaxis\": {\"gridcolor\": \"white\", \"linecolor\": \"white\", \"ticks\": \"\"}}, \"scene\": {\"xaxis\": {\"backgroundcolor\": \"#E5ECF6\", \"gridcolor\": \"white\", \"gridwidth\": 2, \"linecolor\": \"white\", \"showbackground\": true, \"ticks\": \"\", \"zerolinecolor\": \"white\"}, \"yaxis\": {\"backgroundcolor\": \"#E5ECF6\", \"gridcolor\": \"white\", \"gridwidth\": 2, \"linecolor\": \"white\", \"showbackground\": true, \"ticks\": \"\", \"zerolinecolor\": \"white\"}, \"zaxis\": {\"backgroundcolor\": \"#E5ECF6\", \"gridcolor\": \"white\", \"gridwidth\": 2, \"linecolor\": \"white\", \"showbackground\": true, \"ticks\": \"\", \"zerolinecolor\": \"white\"}}, \"shapedefaults\": {\"line\": {\"color\": \"#2a3f5f\"}}, \"ternary\": {\"aaxis\": {\"gridcolor\": \"white\", \"linecolor\": \"white\", \"ticks\": \"\"}, \"baxis\": {\"gridcolor\": \"white\", \"linecolor\": \"white\", \"ticks\": \"\"}, \"bgcolor\": \"#E5ECF6\", \"caxis\": {\"gridcolor\": \"white\", \"linecolor\": \"white\", \"ticks\": \"\"}}, \"title\": {\"x\": 0.05}, \"xaxis\": {\"automargin\": true, \"gridcolor\": \"white\", \"linecolor\": \"white\", \"ticks\": \"\", \"title\": {\"standoff\": 15}, \"zerolinecolor\": \"white\", \"zerolinewidth\": 2}, \"yaxis\": {\"automargin\": true, \"gridcolor\": \"white\", \"linecolor\": \"white\", \"ticks\": \"\", \"title\": {\"standoff\": 15}, \"zerolinecolor\": \"white\", \"zerolinewidth\": 2}}}, \"title\": {\"text\": \"n=5, color=num-edges\"}, \"width\": 600, \"xaxis\": {\"visible\": false}, \"yaxis\": {\"visible\": false}},\n",
       "                        {\"responsive\": true}\n",
       "                    ).then(function(){\n",
       "                            \n",
       "var gd = document.getElementById('f650e4ba-216e-4705-ac99-c2199c3b6935');\n",
       "var x = new MutationObserver(function (mutations, observer) {{\n",
       "        var display = window.getComputedStyle(gd).display;\n",
       "        if (!display || display === 'none') {{\n",
       "            console.log([gd, 'removed!']);\n",
       "            Plotly.purge(gd);\n",
       "            observer.disconnect();\n",
       "        }}\n",
       "}});\n",
       "\n",
       "// Listen for the removal of the full notebook cells\n",
       "var notebookContainer = gd.closest('#notebook-container');\n",
       "if (notebookContainer) {{\n",
       "    x.observe(notebookContainer, {childList: true});\n",
       "}}\n",
       "\n",
       "// Listen for the clearing of the current output cell\n",
       "var outputEl = gd.closest('.output');\n",
       "if (outputEl) {{\n",
       "    x.observe(outputEl, {childList: true});\n",
       "}}\n",
       "\n",
       "                        })\n",
       "                };\n",
       "                });\n",
       "            </script>\n",
       "        </div>"
      ]
     },
     "metadata": {},
     "output_type": "display_data"
    },
    {
     "data": {
      "application/vnd.plotly.v1+json": {
       "config": {
        "plotlyServerURL": "https://plot.ly"
       },
       "data": [
        {
         "hoverinfo": "none",
         "line": {
          "color": "rgb(180,180,180)",
          "width": 1.5
         },
         "mode": "lines",
         "type": "scatter",
         "uid": "db9f9593-750d-4d95-9430-dae74f4c6174",
         "x": [
          1.3298159869020758,
          1.1469072827791906,
          null,
          1.3298159869020758,
          0.328861603852895,
          null,
          -0.3136637439362187,
          -0.7243904444298895,
          null,
          -0.3136637439362187,
          0.328861603852895,
          null,
          -0.3136637439362187,
          -0.5309270210369076,
          null,
          1.1469072827791906,
          0.328861603852895,
          null,
          -0.7243904444298895,
          0.328861603852895,
          null,
          -0.7243904444298895,
          -1.2048240771560235,
          null,
          -0.7243904444298895,
          -0.5309270210369076,
          null,
          0.328861603852895,
          -0.5309270210369076,
          null,
          -1.2048240771560235,
          -0.5309270210369076,
          null,
          -1.2048240771560235,
          -2.213903717651574,
          null,
          -1.2048240771560235,
          -1.7023498965128783,
          null,
          -1.2048240771560235,
          -1.738583887606705,
          null,
          -0.5309270210369076,
          -1.738583887606705,
          null,
          -2.213903717651574,
          -1.7023498965128783,
          null,
          -2.213903717651574,
          -1.738583887606705,
          null,
          -2.213903717651574,
          -2.731522096111749,
          null,
          -1.738583887606705,
          -2.731522096111749,
          null,
          0.25059448189813777,
          -0.7390693820101548,
          null,
          0.25059448189813777,
          -0.03534566882418992,
          null,
          -0.7390693820101548,
          -0.03534566882418992,
          null,
          2.3565112659877583,
          2.7552014817878163,
          null
         ],
         "y": [
          1.3523127368365098,
          2.1985903775655498,
          null,
          1.3523127368365098,
          1.5633384015919314,
          null,
          2.2144683738047304,
          1.5858858701627305,
          null,
          2.2144683738047304,
          1.5633384015919314,
          null,
          2.2144683738047304,
          1.0439404163322545,
          null,
          2.1985903775655498,
          1.5633384015919314,
          null,
          1.5858858701627305,
          1.5633384015919314,
          null,
          1.5858858701627305,
          0.4816966577040794,
          null,
          1.5858858701627305,
          1.0439404163322545,
          null,
          1.5633384015919314,
          1.0439404163322545,
          null,
          0.4816966577040794,
          1.0439404163322545,
          null,
          0.4816966577040794,
          0.2756200759584881,
          null,
          0.4816966577040794,
          -0.44096509429531644,
          null,
          0.4816966577040794,
          1.1641100580798085,
          null,
          1.0439404163322545,
          1.1641100580798085,
          null,
          0.2756200759584881,
          -0.44096509429531644,
          null,
          0.2756200759584881,
          1.1641100580798085,
          null,
          0.2756200759584881,
          0.9939229170012996,
          null,
          1.1641100580798085,
          0.9939229170012996,
          null,
          -2.2906450815992554,
          -2.546964065631075,
          null,
          -2.2906450815992554,
          -3.0504577546610956,
          null,
          -2.546964065631075,
          -3.0504577546610956,
          null,
          -1.2652856269910393,
          -0.4471630511020971,
          null
         ]
        },
        {
         "hoverinfo": "text",
         "marker": {
          "color": [
           0.25,
           0.05,
           0.25,
           0.041666666666666664,
           0.10714285714285714,
           0.05,
           0.0625,
           0,
           0,
           0.125,
           0,
           0,
           0,
           0,
           0,
           0
          ],
          "colorbar": {
           "thickness": 20,
           "tickfont": {
            "size": 10
           },
           "ticklen": 4,
           "x": 1.01
          },
          "colorscale": [
           [
            0,
            "rgb(0, 0, 127)"
           ],
           [
            0.1,
            "rgb(0, 0, 241)"
           ],
           [
            0.2,
            "rgb(0, 76, 255)"
           ],
           [
            0.3,
            "rgb(0, 176, 255)"
           ],
           [
            0.4,
            "rgb(41, 255, 205)"
           ],
           [
            0.5,
            "rgb(124, 255, 121)"
           ],
           [
            0.6,
            "rgb(205, 255, 41)"
           ],
           [
            0.7,
            "rgb(255, 196, 0)"
           ],
           [
            0.8,
            "rgb(255, 103, 0)"
           ],
           [
            0.9,
            "rgb(241, 7, 0)"
           ],
           [
            1,
            "rgb(127, 0, 0)"
           ]
          ],
          "line": {
           "color": "rgb(200,200,200)",
           "width": 1
          },
          "opacity": 1,
          "showscale": true,
          "size": [
           9,
           6,
           9,
           6,
           9,
           6,
           6,
           6,
           6,
           6,
           3,
           3,
           3,
           3,
           3,
           3
          ]
         },
         "mode": "markers",
         "text": [
          "cube0_cluster1",
          "cube0_cluster0",
          "cube1_cluster0",
          "cube1_cluster1",
          "cube2_cluster1",
          "cube2_cluster0",
          "cube3_cluster0",
          "cube3_cluster1",
          "cube4_cluster0",
          "cube4_cluster1",
          "cube5_cluster1",
          "cube5_cluster0",
          "cube6_cluster1",
          "cube6_cluster0",
          "cube7_cluster0",
          "cube7_cluster1"
         ],
         "type": "scatter",
         "uid": "913b0eb6-2068-48df-8f7a-5886173d77be",
         "x": [
          1.3298159869020758,
          -0.3136637439362187,
          1.1469072827791906,
          -0.7243904444298895,
          0.328861603852895,
          -1.2048240771560235,
          -0.5309270210369076,
          -2.213903717651574,
          -1.7023498965128783,
          -1.738583887606705,
          0.25059448189813777,
          -2.731522096111749,
          -0.7390693820101548,
          2.3565112659877583,
          -0.03534566882418992,
          2.7552014817878163
         ],
         "y": [
          1.3523127368365098,
          2.2144683738047304,
          2.1985903775655498,
          1.5858858701627305,
          1.5633384015919314,
          0.4816966577040794,
          1.0439404163322545,
          0.2756200759584881,
          -0.44096509429531644,
          1.1641100580798085,
          -2.2906450815992554,
          0.9939229170012996,
          -2.546964065631075,
          -1.2652856269910393,
          -3.0504577546610956,
          -0.4471630511020971
         ]
        }
       ],
       "layout": {
        "annotations": [
         {
          "align": "left",
          "font": {
           "size": 12
          },
          "showarrow": false,
          "text": "<b>N_cubes:</b> 20 <b>Perc_overlap:</b> 0.7<br><b>Nodes:</b> 16 <b>Edges:</b> 23 <b>Total samples:</b> 87 <b>Unique_samples:</b> 32",
          "x": 0,
          "xanchor": "left",
          "xref": "paper",
          "y": -0.01,
          "yanchor": "top",
          "yref": "paper"
         }
        ],
        "autosize": false,
        "font": {
         "size": 12
        },
        "height": 500,
        "hovermode": "closest",
        "margin": {
         "b": 35,
         "l": 10,
         "r": 60,
         "t": 100
        },
        "plot_bgcolor": "rgba(240, 240, 240, 0.95)",
        "showlegend": false,
        "template": {
         "data": {
          "bar": [
           {
            "error_x": {
             "color": "#2a3f5f"
            },
            "error_y": {
             "color": "#2a3f5f"
            },
            "marker": {
             "line": {
              "color": "#E5ECF6",
              "width": 0.5
             }
            },
            "type": "bar"
           }
          ],
          "barpolar": [
           {
            "marker": {
             "line": {
              "color": "#E5ECF6",
              "width": 0.5
             }
            },
            "type": "barpolar"
           }
          ],
          "carpet": [
           {
            "aaxis": {
             "endlinecolor": "#2a3f5f",
             "gridcolor": "white",
             "linecolor": "white",
             "minorgridcolor": "white",
             "startlinecolor": "#2a3f5f"
            },
            "baxis": {
             "endlinecolor": "#2a3f5f",
             "gridcolor": "white",
             "linecolor": "white",
             "minorgridcolor": "white",
             "startlinecolor": "#2a3f5f"
            },
            "type": "carpet"
           }
          ],
          "choropleth": [
           {
            "colorbar": {
             "outlinewidth": 0,
             "ticks": ""
            },
            "type": "choropleth"
           }
          ],
          "contour": [
           {
            "colorbar": {
             "outlinewidth": 0,
             "ticks": ""
            },
            "colorscale": [
             [
              0,
              "#0d0887"
             ],
             [
              0.1111111111111111,
              "#46039f"
             ],
             [
              0.2222222222222222,
              "#7201a8"
             ],
             [
              0.3333333333333333,
              "#9c179e"
             ],
             [
              0.4444444444444444,
              "#bd3786"
             ],
             [
              0.5555555555555556,
              "#d8576b"
             ],
             [
              0.6666666666666666,
              "#ed7953"
             ],
             [
              0.7777777777777778,
              "#fb9f3a"
             ],
             [
              0.8888888888888888,
              "#fdca26"
             ],
             [
              1,
              "#f0f921"
             ]
            ],
            "type": "contour"
           }
          ],
          "contourcarpet": [
           {
            "colorbar": {
             "outlinewidth": 0,
             "ticks": ""
            },
            "type": "contourcarpet"
           }
          ],
          "heatmap": [
           {
            "colorbar": {
             "outlinewidth": 0,
             "ticks": ""
            },
            "colorscale": [
             [
              0,
              "#0d0887"
             ],
             [
              0.1111111111111111,
              "#46039f"
             ],
             [
              0.2222222222222222,
              "#7201a8"
             ],
             [
              0.3333333333333333,
              "#9c179e"
             ],
             [
              0.4444444444444444,
              "#bd3786"
             ],
             [
              0.5555555555555556,
              "#d8576b"
             ],
             [
              0.6666666666666666,
              "#ed7953"
             ],
             [
              0.7777777777777778,
              "#fb9f3a"
             ],
             [
              0.8888888888888888,
              "#fdca26"
             ],
             [
              1,
              "#f0f921"
             ]
            ],
            "type": "heatmap"
           }
          ],
          "heatmapgl": [
           {
            "colorbar": {
             "outlinewidth": 0,
             "ticks": ""
            },
            "colorscale": [
             [
              0,
              "#0d0887"
             ],
             [
              0.1111111111111111,
              "#46039f"
             ],
             [
              0.2222222222222222,
              "#7201a8"
             ],
             [
              0.3333333333333333,
              "#9c179e"
             ],
             [
              0.4444444444444444,
              "#bd3786"
             ],
             [
              0.5555555555555556,
              "#d8576b"
             ],
             [
              0.6666666666666666,
              "#ed7953"
             ],
             [
              0.7777777777777778,
              "#fb9f3a"
             ],
             [
              0.8888888888888888,
              "#fdca26"
             ],
             [
              1,
              "#f0f921"
             ]
            ],
            "type": "heatmapgl"
           }
          ],
          "histogram": [
           {
            "marker": {
             "colorbar": {
              "outlinewidth": 0,
              "ticks": ""
             }
            },
            "type": "histogram"
           }
          ],
          "histogram2d": [
           {
            "colorbar": {
             "outlinewidth": 0,
             "ticks": ""
            },
            "colorscale": [
             [
              0,
              "#0d0887"
             ],
             [
              0.1111111111111111,
              "#46039f"
             ],
             [
              0.2222222222222222,
              "#7201a8"
             ],
             [
              0.3333333333333333,
              "#9c179e"
             ],
             [
              0.4444444444444444,
              "#bd3786"
             ],
             [
              0.5555555555555556,
              "#d8576b"
             ],
             [
              0.6666666666666666,
              "#ed7953"
             ],
             [
              0.7777777777777778,
              "#fb9f3a"
             ],
             [
              0.8888888888888888,
              "#fdca26"
             ],
             [
              1,
              "#f0f921"
             ]
            ],
            "type": "histogram2d"
           }
          ],
          "histogram2dcontour": [
           {
            "colorbar": {
             "outlinewidth": 0,
             "ticks": ""
            },
            "colorscale": [
             [
              0,
              "#0d0887"
             ],
             [
              0.1111111111111111,
              "#46039f"
             ],
             [
              0.2222222222222222,
              "#7201a8"
             ],
             [
              0.3333333333333333,
              "#9c179e"
             ],
             [
              0.4444444444444444,
              "#bd3786"
             ],
             [
              0.5555555555555556,
              "#d8576b"
             ],
             [
              0.6666666666666666,
              "#ed7953"
             ],
             [
              0.7777777777777778,
              "#fb9f3a"
             ],
             [
              0.8888888888888888,
              "#fdca26"
             ],
             [
              1,
              "#f0f921"
             ]
            ],
            "type": "histogram2dcontour"
           }
          ],
          "mesh3d": [
           {
            "colorbar": {
             "outlinewidth": 0,
             "ticks": ""
            },
            "type": "mesh3d"
           }
          ],
          "parcoords": [
           {
            "line": {
             "colorbar": {
              "outlinewidth": 0,
              "ticks": ""
             }
            },
            "type": "parcoords"
           }
          ],
          "pie": [
           {
            "automargin": true,
            "type": "pie"
           }
          ],
          "scatter": [
           {
            "marker": {
             "colorbar": {
              "outlinewidth": 0,
              "ticks": ""
             }
            },
            "type": "scatter"
           }
          ],
          "scatter3d": [
           {
            "line": {
             "colorbar": {
              "outlinewidth": 0,
              "ticks": ""
             }
            },
            "marker": {
             "colorbar": {
              "outlinewidth": 0,
              "ticks": ""
             }
            },
            "type": "scatter3d"
           }
          ],
          "scattercarpet": [
           {
            "marker": {
             "colorbar": {
              "outlinewidth": 0,
              "ticks": ""
             }
            },
            "type": "scattercarpet"
           }
          ],
          "scattergeo": [
           {
            "marker": {
             "colorbar": {
              "outlinewidth": 0,
              "ticks": ""
             }
            },
            "type": "scattergeo"
           }
          ],
          "scattergl": [
           {
            "marker": {
             "colorbar": {
              "outlinewidth": 0,
              "ticks": ""
             }
            },
            "type": "scattergl"
           }
          ],
          "scattermapbox": [
           {
            "marker": {
             "colorbar": {
              "outlinewidth": 0,
              "ticks": ""
             }
            },
            "type": "scattermapbox"
           }
          ],
          "scatterpolar": [
           {
            "marker": {
             "colorbar": {
              "outlinewidth": 0,
              "ticks": ""
             }
            },
            "type": "scatterpolar"
           }
          ],
          "scatterpolargl": [
           {
            "marker": {
             "colorbar": {
              "outlinewidth": 0,
              "ticks": ""
             }
            },
            "type": "scatterpolargl"
           }
          ],
          "scatterternary": [
           {
            "marker": {
             "colorbar": {
              "outlinewidth": 0,
              "ticks": ""
             }
            },
            "type": "scatterternary"
           }
          ],
          "surface": [
           {
            "colorbar": {
             "outlinewidth": 0,
             "ticks": ""
            },
            "colorscale": [
             [
              0,
              "#0d0887"
             ],
             [
              0.1111111111111111,
              "#46039f"
             ],
             [
              0.2222222222222222,
              "#7201a8"
             ],
             [
              0.3333333333333333,
              "#9c179e"
             ],
             [
              0.4444444444444444,
              "#bd3786"
             ],
             [
              0.5555555555555556,
              "#d8576b"
             ],
             [
              0.6666666666666666,
              "#ed7953"
             ],
             [
              0.7777777777777778,
              "#fb9f3a"
             ],
             [
              0.8888888888888888,
              "#fdca26"
             ],
             [
              1,
              "#f0f921"
             ]
            ],
            "type": "surface"
           }
          ],
          "table": [
           {
            "cells": {
             "fill": {
              "color": "#EBF0F8"
             },
             "line": {
              "color": "white"
             }
            },
            "header": {
             "fill": {
              "color": "#C8D4E3"
             },
             "line": {
              "color": "white"
             }
            },
            "type": "table"
           }
          ]
         },
         "layout": {
          "annotationdefaults": {
           "arrowcolor": "#2a3f5f",
           "arrowhead": 0,
           "arrowwidth": 1
          },
          "coloraxis": {
           "colorbar": {
            "outlinewidth": 0,
            "ticks": ""
           }
          },
          "colorscale": {
           "diverging": [
            [
             0,
             "#8e0152"
            ],
            [
             0.1,
             "#c51b7d"
            ],
            [
             0.2,
             "#de77ae"
            ],
            [
             0.3,
             "#f1b6da"
            ],
            [
             0.4,
             "#fde0ef"
            ],
            [
             0.5,
             "#f7f7f7"
            ],
            [
             0.6,
             "#e6f5d0"
            ],
            [
             0.7,
             "#b8e186"
            ],
            [
             0.8,
             "#7fbc41"
            ],
            [
             0.9,
             "#4d9221"
            ],
            [
             1,
             "#276419"
            ]
           ],
           "sequential": [
            [
             0,
             "#0d0887"
            ],
            [
             0.1111111111111111,
             "#46039f"
            ],
            [
             0.2222222222222222,
             "#7201a8"
            ],
            [
             0.3333333333333333,
             "#9c179e"
            ],
            [
             0.4444444444444444,
             "#bd3786"
            ],
            [
             0.5555555555555556,
             "#d8576b"
            ],
            [
             0.6666666666666666,
             "#ed7953"
            ],
            [
             0.7777777777777778,
             "#fb9f3a"
            ],
            [
             0.8888888888888888,
             "#fdca26"
            ],
            [
             1,
             "#f0f921"
            ]
           ],
           "sequentialminus": [
            [
             0,
             "#0d0887"
            ],
            [
             0.1111111111111111,
             "#46039f"
            ],
            [
             0.2222222222222222,
             "#7201a8"
            ],
            [
             0.3333333333333333,
             "#9c179e"
            ],
            [
             0.4444444444444444,
             "#bd3786"
            ],
            [
             0.5555555555555556,
             "#d8576b"
            ],
            [
             0.6666666666666666,
             "#ed7953"
            ],
            [
             0.7777777777777778,
             "#fb9f3a"
            ],
            [
             0.8888888888888888,
             "#fdca26"
            ],
            [
             1,
             "#f0f921"
            ]
           ]
          },
          "colorway": [
           "#636efa",
           "#EF553B",
           "#00cc96",
           "#ab63fa",
           "#FFA15A",
           "#19d3f3",
           "#FF6692",
           "#B6E880",
           "#FF97FF",
           "#FECB52"
          ],
          "font": {
           "color": "#2a3f5f"
          },
          "geo": {
           "bgcolor": "white",
           "lakecolor": "white",
           "landcolor": "#E5ECF6",
           "showlakes": true,
           "showland": true,
           "subunitcolor": "white"
          },
          "hoverlabel": {
           "align": "left"
          },
          "hovermode": "closest",
          "mapbox": {
           "style": "light"
          },
          "paper_bgcolor": "white",
          "plot_bgcolor": "#E5ECF6",
          "polar": {
           "angularaxis": {
            "gridcolor": "white",
            "linecolor": "white",
            "ticks": ""
           },
           "bgcolor": "#E5ECF6",
           "radialaxis": {
            "gridcolor": "white",
            "linecolor": "white",
            "ticks": ""
           }
          },
          "scene": {
           "xaxis": {
            "backgroundcolor": "#E5ECF6",
            "gridcolor": "white",
            "gridwidth": 2,
            "linecolor": "white",
            "showbackground": true,
            "ticks": "",
            "zerolinecolor": "white"
           },
           "yaxis": {
            "backgroundcolor": "#E5ECF6",
            "gridcolor": "white",
            "gridwidth": 2,
            "linecolor": "white",
            "showbackground": true,
            "ticks": "",
            "zerolinecolor": "white"
           },
           "zaxis": {
            "backgroundcolor": "#E5ECF6",
            "gridcolor": "white",
            "gridwidth": 2,
            "linecolor": "white",
            "showbackground": true,
            "ticks": "",
            "zerolinecolor": "white"
           }
          },
          "shapedefaults": {
           "line": {
            "color": "#2a3f5f"
           }
          },
          "ternary": {
           "aaxis": {
            "gridcolor": "white",
            "linecolor": "white",
            "ticks": ""
           },
           "baxis": {
            "gridcolor": "white",
            "linecolor": "white",
            "ticks": ""
           },
           "bgcolor": "#E5ECF6",
           "caxis": {
            "gridcolor": "white",
            "linecolor": "white",
            "ticks": ""
           }
          },
          "title": {
           "x": 0.05
          },
          "xaxis": {
           "automargin": true,
           "gridcolor": "white",
           "linecolor": "white",
           "ticks": "",
           "title": {
            "standoff": 15
           },
           "zerolinecolor": "white",
           "zerolinewidth": 2
          },
          "yaxis": {
           "automargin": true,
           "gridcolor": "white",
           "linecolor": "white",
           "ticks": "",
           "title": {
            "standoff": 15
           },
           "zerolinecolor": "white",
           "zerolinewidth": 2
          }
         }
        },
        "title": {
         "text": "n=5, color=cc"
        },
        "width": 600,
        "xaxis": {
         "visible": false
        },
        "yaxis": {
         "visible": false
        }
       }
      },
      "text/html": [
       "<div>\n",
       "        \n",
       "        \n",
       "            <div id=\"ac5a457e-2f48-41d9-9e3b-0626aba16247\" class=\"plotly-graph-div\" style=\"height:500px; width:600px;\"></div>\n",
       "            <script type=\"text/javascript\">\n",
       "                require([\"plotly\"], function(Plotly) {\n",
       "                    window.PLOTLYENV=window.PLOTLYENV || {};\n",
       "                    \n",
       "                if (document.getElementById(\"ac5a457e-2f48-41d9-9e3b-0626aba16247\")) {\n",
       "                    Plotly.newPlot(\n",
       "                        'ac5a457e-2f48-41d9-9e3b-0626aba16247',\n",
       "                        [{\"hoverinfo\": \"none\", \"line\": {\"color\": \"rgb(180,180,180)\", \"width\": 1.5}, \"mode\": \"lines\", \"type\": \"scatter\", \"uid\": \"db9f9593-750d-4d95-9430-dae74f4c6174\", \"x\": [1.3298159869020758, 1.1469072827791906, null, 1.3298159869020758, 0.328861603852895, null, -0.3136637439362187, -0.7243904444298895, null, -0.3136637439362187, 0.328861603852895, null, -0.3136637439362187, -0.5309270210369076, null, 1.1469072827791906, 0.328861603852895, null, -0.7243904444298895, 0.328861603852895, null, -0.7243904444298895, -1.2048240771560235, null, -0.7243904444298895, -0.5309270210369076, null, 0.328861603852895, -0.5309270210369076, null, -1.2048240771560235, -0.5309270210369076, null, -1.2048240771560235, -2.213903717651574, null, -1.2048240771560235, -1.7023498965128783, null, -1.2048240771560235, -1.738583887606705, null, -0.5309270210369076, -1.738583887606705, null, -2.213903717651574, -1.7023498965128783, null, -2.213903717651574, -1.738583887606705, null, -2.213903717651574, -2.731522096111749, null, -1.738583887606705, -2.731522096111749, null, 0.25059448189813777, -0.7390693820101548, null, 0.25059448189813777, -0.03534566882418992, null, -0.7390693820101548, -0.03534566882418992, null, 2.3565112659877583, 2.7552014817878163, null], \"y\": [1.3523127368365098, 2.1985903775655498, null, 1.3523127368365098, 1.5633384015919314, null, 2.2144683738047304, 1.5858858701627305, null, 2.2144683738047304, 1.5633384015919314, null, 2.2144683738047304, 1.0439404163322545, null, 2.1985903775655498, 1.5633384015919314, null, 1.5858858701627305, 1.5633384015919314, null, 1.5858858701627305, 0.4816966577040794, null, 1.5858858701627305, 1.0439404163322545, null, 1.5633384015919314, 1.0439404163322545, null, 0.4816966577040794, 1.0439404163322545, null, 0.4816966577040794, 0.2756200759584881, null, 0.4816966577040794, -0.44096509429531644, null, 0.4816966577040794, 1.1641100580798085, null, 1.0439404163322545, 1.1641100580798085, null, 0.2756200759584881, -0.44096509429531644, null, 0.2756200759584881, 1.1641100580798085, null, 0.2756200759584881, 0.9939229170012996, null, 1.1641100580798085, 0.9939229170012996, null, -2.2906450815992554, -2.546964065631075, null, -2.2906450815992554, -3.0504577546610956, null, -2.546964065631075, -3.0504577546610956, null, -1.2652856269910393, -0.4471630511020971, null]}, {\"hoverinfo\": \"text\", \"marker\": {\"color\": [0.25, 0.05, 0.25, 0.041666666666666664, 0.10714285714285714, 0.05, 0.0625, 0.0, 0.0, 0.125, 0.0, 0.0, 0.0, 0.0, 0.0, 0.0], \"colorbar\": {\"thickness\": 20, \"tickfont\": {\"size\": 10}, \"ticklen\": 4, \"x\": 1.01}, \"colorscale\": [[0.0, \"rgb(0, 0, 127)\"], [0.1, \"rgb(0, 0, 241)\"], [0.2, \"rgb(0, 76, 255)\"], [0.3, \"rgb(0, 176, 255)\"], [0.4, \"rgb(41, 255, 205)\"], [0.5, \"rgb(124, 255, 121)\"], [0.6, \"rgb(205, 255, 41)\"], [0.7, \"rgb(255, 196, 0)\"], [0.8, \"rgb(255, 103, 0)\"], [0.9, \"rgb(241, 7, 0)\"], [1.0, \"rgb(127, 0, 0)\"]], \"line\": {\"color\": \"rgb(200,200,200)\", \"width\": 1.0}, \"opacity\": 1.0, \"showscale\": true, \"size\": [9, 6, 9, 6, 9, 6, 6, 6, 6, 6, 3, 3, 3, 3, 3, 3]}, \"mode\": \"markers\", \"text\": [\"cube0_cluster1\", \"cube0_cluster0\", \"cube1_cluster0\", \"cube1_cluster1\", \"cube2_cluster1\", \"cube2_cluster0\", \"cube3_cluster0\", \"cube3_cluster1\", \"cube4_cluster0\", \"cube4_cluster1\", \"cube5_cluster1\", \"cube5_cluster0\", \"cube6_cluster1\", \"cube6_cluster0\", \"cube7_cluster0\", \"cube7_cluster1\"], \"type\": \"scatter\", \"uid\": \"913b0eb6-2068-48df-8f7a-5886173d77be\", \"x\": [1.3298159869020758, -0.3136637439362187, 1.1469072827791906, -0.7243904444298895, 0.328861603852895, -1.2048240771560235, -0.5309270210369076, -2.213903717651574, -1.7023498965128783, -1.738583887606705, 0.25059448189813777, -2.731522096111749, -0.7390693820101548, 2.3565112659877583, -0.03534566882418992, 2.7552014817878163], \"y\": [1.3523127368365098, 2.2144683738047304, 2.1985903775655498, 1.5858858701627305, 1.5633384015919314, 0.4816966577040794, 1.0439404163322545, 0.2756200759584881, -0.44096509429531644, 1.1641100580798085, -2.2906450815992554, 0.9939229170012996, -2.546964065631075, -1.2652856269910393, -3.0504577546610956, -0.4471630511020971]}],\n",
       "                        {\"annotations\": [{\"align\": \"left\", \"font\": {\"size\": 12}, \"showarrow\": false, \"text\": \"<b>N_cubes:</b> 20 <b>Perc_overlap:</b> 0.7<br><b>Nodes:</b> 16 <b>Edges:</b> 23 <b>Total samples:</b> 87 <b>Unique_samples:</b> 32\", \"x\": 0, \"xanchor\": \"left\", \"xref\": \"paper\", \"y\": -0.01, \"yanchor\": \"top\", \"yref\": \"paper\"}], \"autosize\": false, \"font\": {\"size\": 12}, \"height\": 500, \"hovermode\": \"closest\", \"margin\": {\"b\": 35, \"l\": 10, \"r\": 60, \"t\": 100}, \"plot_bgcolor\": \"rgba(240, 240, 240, 0.95)\", \"showlegend\": false, \"template\": {\"data\": {\"bar\": [{\"error_x\": {\"color\": \"#2a3f5f\"}, \"error_y\": {\"color\": \"#2a3f5f\"}, \"marker\": {\"line\": {\"color\": \"#E5ECF6\", \"width\": 0.5}}, \"type\": \"bar\"}], \"barpolar\": [{\"marker\": {\"line\": {\"color\": \"#E5ECF6\", \"width\": 0.5}}, \"type\": \"barpolar\"}], \"carpet\": [{\"aaxis\": {\"endlinecolor\": \"#2a3f5f\", \"gridcolor\": \"white\", \"linecolor\": \"white\", \"minorgridcolor\": \"white\", \"startlinecolor\": \"#2a3f5f\"}, \"baxis\": {\"endlinecolor\": \"#2a3f5f\", \"gridcolor\": \"white\", \"linecolor\": \"white\", \"minorgridcolor\": \"white\", \"startlinecolor\": \"#2a3f5f\"}, \"type\": \"carpet\"}], \"choropleth\": [{\"colorbar\": {\"outlinewidth\": 0, \"ticks\": \"\"}, \"type\": \"choropleth\"}], \"contour\": [{\"colorbar\": {\"outlinewidth\": 0, \"ticks\": \"\"}, \"colorscale\": [[0.0, \"#0d0887\"], [0.1111111111111111, \"#46039f\"], [0.2222222222222222, \"#7201a8\"], [0.3333333333333333, \"#9c179e\"], [0.4444444444444444, \"#bd3786\"], [0.5555555555555556, \"#d8576b\"], [0.6666666666666666, \"#ed7953\"], [0.7777777777777778, \"#fb9f3a\"], [0.8888888888888888, \"#fdca26\"], [1.0, \"#f0f921\"]], \"type\": \"contour\"}], \"contourcarpet\": [{\"colorbar\": {\"outlinewidth\": 0, \"ticks\": \"\"}, \"type\": \"contourcarpet\"}], \"heatmap\": [{\"colorbar\": {\"outlinewidth\": 0, \"ticks\": \"\"}, \"colorscale\": [[0.0, \"#0d0887\"], [0.1111111111111111, \"#46039f\"], [0.2222222222222222, \"#7201a8\"], [0.3333333333333333, \"#9c179e\"], [0.4444444444444444, \"#bd3786\"], [0.5555555555555556, \"#d8576b\"], [0.6666666666666666, \"#ed7953\"], [0.7777777777777778, \"#fb9f3a\"], [0.8888888888888888, \"#fdca26\"], [1.0, \"#f0f921\"]], \"type\": \"heatmap\"}], \"heatmapgl\": [{\"colorbar\": {\"outlinewidth\": 0, \"ticks\": \"\"}, \"colorscale\": [[0.0, \"#0d0887\"], [0.1111111111111111, \"#46039f\"], [0.2222222222222222, \"#7201a8\"], [0.3333333333333333, \"#9c179e\"], [0.4444444444444444, \"#bd3786\"], [0.5555555555555556, \"#d8576b\"], [0.6666666666666666, \"#ed7953\"], [0.7777777777777778, \"#fb9f3a\"], [0.8888888888888888, \"#fdca26\"], [1.0, \"#f0f921\"]], \"type\": \"heatmapgl\"}], \"histogram\": [{\"marker\": {\"colorbar\": {\"outlinewidth\": 0, \"ticks\": \"\"}}, \"type\": \"histogram\"}], \"histogram2d\": [{\"colorbar\": {\"outlinewidth\": 0, \"ticks\": \"\"}, \"colorscale\": [[0.0, \"#0d0887\"], [0.1111111111111111, \"#46039f\"], [0.2222222222222222, \"#7201a8\"], [0.3333333333333333, \"#9c179e\"], [0.4444444444444444, \"#bd3786\"], [0.5555555555555556, \"#d8576b\"], [0.6666666666666666, \"#ed7953\"], [0.7777777777777778, \"#fb9f3a\"], [0.8888888888888888, \"#fdca26\"], [1.0, \"#f0f921\"]], \"type\": \"histogram2d\"}], \"histogram2dcontour\": [{\"colorbar\": {\"outlinewidth\": 0, \"ticks\": \"\"}, \"colorscale\": [[0.0, \"#0d0887\"], [0.1111111111111111, \"#46039f\"], [0.2222222222222222, \"#7201a8\"], [0.3333333333333333, \"#9c179e\"], [0.4444444444444444, \"#bd3786\"], [0.5555555555555556, \"#d8576b\"], [0.6666666666666666, \"#ed7953\"], [0.7777777777777778, \"#fb9f3a\"], [0.8888888888888888, \"#fdca26\"], [1.0, \"#f0f921\"]], \"type\": \"histogram2dcontour\"}], \"mesh3d\": [{\"colorbar\": {\"outlinewidth\": 0, \"ticks\": \"\"}, \"type\": \"mesh3d\"}], \"parcoords\": [{\"line\": {\"colorbar\": {\"outlinewidth\": 0, \"ticks\": \"\"}}, \"type\": \"parcoords\"}], \"pie\": [{\"automargin\": true, \"type\": \"pie\"}], \"scatter\": [{\"marker\": {\"colorbar\": {\"outlinewidth\": 0, \"ticks\": \"\"}}, \"type\": \"scatter\"}], \"scatter3d\": [{\"line\": {\"colorbar\": {\"outlinewidth\": 0, \"ticks\": \"\"}}, \"marker\": {\"colorbar\": {\"outlinewidth\": 0, \"ticks\": \"\"}}, \"type\": \"scatter3d\"}], \"scattercarpet\": [{\"marker\": {\"colorbar\": {\"outlinewidth\": 0, \"ticks\": \"\"}}, \"type\": \"scattercarpet\"}], \"scattergeo\": [{\"marker\": {\"colorbar\": {\"outlinewidth\": 0, \"ticks\": \"\"}}, \"type\": \"scattergeo\"}], \"scattergl\": [{\"marker\": {\"colorbar\": {\"outlinewidth\": 0, \"ticks\": \"\"}}, \"type\": \"scattergl\"}], \"scattermapbox\": [{\"marker\": {\"colorbar\": {\"outlinewidth\": 0, \"ticks\": \"\"}}, \"type\": \"scattermapbox\"}], \"scatterpolar\": [{\"marker\": {\"colorbar\": {\"outlinewidth\": 0, \"ticks\": \"\"}}, \"type\": \"scatterpolar\"}], \"scatterpolargl\": [{\"marker\": {\"colorbar\": {\"outlinewidth\": 0, \"ticks\": \"\"}}, \"type\": \"scatterpolargl\"}], \"scatterternary\": [{\"marker\": {\"colorbar\": {\"outlinewidth\": 0, \"ticks\": \"\"}}, \"type\": \"scatterternary\"}], \"surface\": [{\"colorbar\": {\"outlinewidth\": 0, \"ticks\": \"\"}, \"colorscale\": [[0.0, \"#0d0887\"], [0.1111111111111111, \"#46039f\"], [0.2222222222222222, \"#7201a8\"], [0.3333333333333333, \"#9c179e\"], [0.4444444444444444, \"#bd3786\"], [0.5555555555555556, \"#d8576b\"], [0.6666666666666666, \"#ed7953\"], [0.7777777777777778, \"#fb9f3a\"], [0.8888888888888888, \"#fdca26\"], [1.0, \"#f0f921\"]], \"type\": \"surface\"}], \"table\": [{\"cells\": {\"fill\": {\"color\": \"#EBF0F8\"}, \"line\": {\"color\": \"white\"}}, \"header\": {\"fill\": {\"color\": \"#C8D4E3\"}, \"line\": {\"color\": \"white\"}}, \"type\": \"table\"}]}, \"layout\": {\"annotationdefaults\": {\"arrowcolor\": \"#2a3f5f\", \"arrowhead\": 0, \"arrowwidth\": 1}, \"coloraxis\": {\"colorbar\": {\"outlinewidth\": 0, \"ticks\": \"\"}}, \"colorscale\": {\"diverging\": [[0, \"#8e0152\"], [0.1, \"#c51b7d\"], [0.2, \"#de77ae\"], [0.3, \"#f1b6da\"], [0.4, \"#fde0ef\"], [0.5, \"#f7f7f7\"], [0.6, \"#e6f5d0\"], [0.7, \"#b8e186\"], [0.8, \"#7fbc41\"], [0.9, \"#4d9221\"], [1, \"#276419\"]], \"sequential\": [[0.0, \"#0d0887\"], [0.1111111111111111, \"#46039f\"], [0.2222222222222222, \"#7201a8\"], [0.3333333333333333, \"#9c179e\"], [0.4444444444444444, \"#bd3786\"], [0.5555555555555556, \"#d8576b\"], [0.6666666666666666, \"#ed7953\"], [0.7777777777777778, \"#fb9f3a\"], [0.8888888888888888, \"#fdca26\"], [1.0, \"#f0f921\"]], \"sequentialminus\": [[0.0, \"#0d0887\"], [0.1111111111111111, \"#46039f\"], [0.2222222222222222, \"#7201a8\"], [0.3333333333333333, \"#9c179e\"], [0.4444444444444444, \"#bd3786\"], [0.5555555555555556, \"#d8576b\"], [0.6666666666666666, \"#ed7953\"], [0.7777777777777778, \"#fb9f3a\"], [0.8888888888888888, \"#fdca26\"], [1.0, \"#f0f921\"]]}, \"colorway\": [\"#636efa\", \"#EF553B\", \"#00cc96\", \"#ab63fa\", \"#FFA15A\", \"#19d3f3\", \"#FF6692\", \"#B6E880\", \"#FF97FF\", \"#FECB52\"], \"font\": {\"color\": \"#2a3f5f\"}, \"geo\": {\"bgcolor\": \"white\", \"lakecolor\": \"white\", \"landcolor\": \"#E5ECF6\", \"showlakes\": true, \"showland\": true, \"subunitcolor\": \"white\"}, \"hoverlabel\": {\"align\": \"left\"}, \"hovermode\": \"closest\", \"mapbox\": {\"style\": \"light\"}, \"paper_bgcolor\": \"white\", \"plot_bgcolor\": \"#E5ECF6\", \"polar\": {\"angularaxis\": {\"gridcolor\": \"white\", \"linecolor\": \"white\", \"ticks\": \"\"}, \"bgcolor\": \"#E5ECF6\", \"radialaxis\": {\"gridcolor\": \"white\", \"linecolor\": \"white\", \"ticks\": \"\"}}, \"scene\": {\"xaxis\": {\"backgroundcolor\": \"#E5ECF6\", \"gridcolor\": \"white\", \"gridwidth\": 2, \"linecolor\": \"white\", \"showbackground\": true, \"ticks\": \"\", \"zerolinecolor\": \"white\"}, \"yaxis\": {\"backgroundcolor\": \"#E5ECF6\", \"gridcolor\": \"white\", \"gridwidth\": 2, \"linecolor\": \"white\", \"showbackground\": true, \"ticks\": \"\", \"zerolinecolor\": \"white\"}, \"zaxis\": {\"backgroundcolor\": \"#E5ECF6\", \"gridcolor\": \"white\", \"gridwidth\": 2, \"linecolor\": \"white\", \"showbackground\": true, \"ticks\": \"\", \"zerolinecolor\": \"white\"}}, \"shapedefaults\": {\"line\": {\"color\": \"#2a3f5f\"}}, \"ternary\": {\"aaxis\": {\"gridcolor\": \"white\", \"linecolor\": \"white\", \"ticks\": \"\"}, \"baxis\": {\"gridcolor\": \"white\", \"linecolor\": \"white\", \"ticks\": \"\"}, \"bgcolor\": \"#E5ECF6\", \"caxis\": {\"gridcolor\": \"white\", \"linecolor\": \"white\", \"ticks\": \"\"}}, \"title\": {\"x\": 0.05}, \"xaxis\": {\"automargin\": true, \"gridcolor\": \"white\", \"linecolor\": \"white\", \"ticks\": \"\", \"title\": {\"standoff\": 15}, \"zerolinecolor\": \"white\", \"zerolinewidth\": 2}, \"yaxis\": {\"automargin\": true, \"gridcolor\": \"white\", \"linecolor\": \"white\", \"ticks\": \"\", \"title\": {\"standoff\": 15}, \"zerolinecolor\": \"white\", \"zerolinewidth\": 2}}}, \"title\": {\"text\": \"n=5, color=cc\"}, \"width\": 600, \"xaxis\": {\"visible\": false}, \"yaxis\": {\"visible\": false}},\n",
       "                        {\"responsive\": true}\n",
       "                    ).then(function(){\n",
       "                            \n",
       "var gd = document.getElementById('ac5a457e-2f48-41d9-9e3b-0626aba16247');\n",
       "var x = new MutationObserver(function (mutations, observer) {{\n",
       "        var display = window.getComputedStyle(gd).display;\n",
       "        if (!display || display === 'none') {{\n",
       "            console.log([gd, 'removed!']);\n",
       "            Plotly.purge(gd);\n",
       "            observer.disconnect();\n",
       "        }}\n",
       "}});\n",
       "\n",
       "// Listen for the removal of the full notebook cells\n",
       "var notebookContainer = gd.closest('#notebook-container');\n",
       "if (notebookContainer) {{\n",
       "    x.observe(notebookContainer, {childList: true});\n",
       "}}\n",
       "\n",
       "// Listen for the clearing of the current output cell\n",
       "var outputEl = gd.closest('.output');\n",
       "if (outputEl) {{\n",
       "    x.observe(outputEl, {childList: true});\n",
       "}}\n",
       "\n",
       "                        })\n",
       "                };\n",
       "                });\n",
       "            </script>\n",
       "        </div>"
      ]
     },
     "metadata": {},
     "output_type": "display_data"
    },
    {
     "data": {
      "application/vnd.plotly.v1+json": {
       "config": {
        "plotlyServerURL": "https://plot.ly"
       },
       "data": [
        {
         "hoverinfo": "none",
         "line": {
          "color": "rgb(180,180,180)",
          "width": 1.5
         },
         "mode": "lines",
         "type": "scatter",
         "uid": "137dd982-393f-42bc-96af-55648f762eda",
         "x": [
          1.3298159869020758,
          1.1469072827791906,
          null,
          1.3298159869020758,
          0.328861603852895,
          null,
          -0.3136637439362187,
          -0.7243904444298895,
          null,
          -0.3136637439362187,
          0.328861603852895,
          null,
          -0.3136637439362187,
          -0.5309270210369076,
          null,
          1.1469072827791906,
          0.328861603852895,
          null,
          -0.7243904444298895,
          0.328861603852895,
          null,
          -0.7243904444298895,
          -1.2048240771560235,
          null,
          -0.7243904444298895,
          -0.5309270210369076,
          null,
          0.328861603852895,
          -0.5309270210369076,
          null,
          -1.2048240771560235,
          -0.5309270210369076,
          null,
          -1.2048240771560235,
          -2.213903717651574,
          null,
          -1.2048240771560235,
          -1.7023498965128783,
          null,
          -1.2048240771560235,
          -1.738583887606705,
          null,
          -0.5309270210369076,
          -1.738583887606705,
          null,
          -2.213903717651574,
          -1.7023498965128783,
          null,
          -2.213903717651574,
          -1.738583887606705,
          null,
          -2.213903717651574,
          -2.731522096111749,
          null,
          -1.738583887606705,
          -2.731522096111749,
          null,
          0.25059448189813777,
          -0.7390693820101548,
          null,
          0.25059448189813777,
          -0.03534566882418992,
          null,
          -0.7390693820101548,
          -0.03534566882418992,
          null,
          2.3565112659877583,
          2.7552014817878163,
          null
         ],
         "y": [
          1.3523127368365098,
          2.1985903775655498,
          null,
          1.3523127368365098,
          1.5633384015919314,
          null,
          2.2144683738047304,
          1.5858858701627305,
          null,
          2.2144683738047304,
          1.5633384015919314,
          null,
          2.2144683738047304,
          1.0439404163322545,
          null,
          2.1985903775655498,
          1.5633384015919314,
          null,
          1.5858858701627305,
          1.5633384015919314,
          null,
          1.5858858701627305,
          0.4816966577040794,
          null,
          1.5858858701627305,
          1.0439404163322545,
          null,
          1.5633384015919314,
          1.0439404163322545,
          null,
          0.4816966577040794,
          1.0439404163322545,
          null,
          0.4816966577040794,
          0.2756200759584881,
          null,
          0.4816966577040794,
          -0.44096509429531644,
          null,
          0.4816966577040794,
          1.1641100580798085,
          null,
          1.0439404163322545,
          1.1641100580798085,
          null,
          0.2756200759584881,
          -0.44096509429531644,
          null,
          0.2756200759584881,
          1.1641100580798085,
          null,
          0.2756200759584881,
          0.9939229170012996,
          null,
          1.1641100580798085,
          0.9939229170012996,
          null,
          -2.2906450815992554,
          -2.546964065631075,
          null,
          -2.2906450815992554,
          -3.0504577546610956,
          null,
          -2.546964065631075,
          -3.0504577546610956,
          null,
          -1.2652856269910393,
          -0.4471630511020971,
          null
         ]
        },
        {
         "hoverinfo": "text",
         "marker": {
          "color": [
           0.42105263157894735,
           0.8,
           0.42105263157894735,
           0.8333333333333334,
           0.6428571428571429,
           0.8,
           0.75,
           1,
           1,
           0.5,
           1,
           1,
           1,
           1,
           1,
           1
          ],
          "colorbar": {
           "thickness": 20,
           "tickfont": {
            "size": 10
           },
           "ticklen": 4,
           "x": 1.01
          },
          "colorscale": [
           [
            0,
            "rgb(0, 0, 127)"
           ],
           [
            0.1,
            "rgb(0, 0, 241)"
           ],
           [
            0.2,
            "rgb(0, 76, 255)"
           ],
           [
            0.3,
            "rgb(0, 176, 255)"
           ],
           [
            0.4,
            "rgb(41, 255, 205)"
           ],
           [
            0.5,
            "rgb(124, 255, 121)"
           ],
           [
            0.6,
            "rgb(205, 255, 41)"
           ],
           [
            0.7,
            "rgb(255, 196, 0)"
           ],
           [
            0.8,
            "rgb(255, 103, 0)"
           ],
           [
            0.9,
            "rgb(241, 7, 0)"
           ],
           [
            1,
            "rgb(127, 0, 0)"
           ]
          ],
          "line": {
           "color": "rgb(200,200,200)",
           "width": 1
          },
          "opacity": 1,
          "showscale": true,
          "size": [
           9,
           6,
           9,
           6,
           9,
           6,
           6,
           6,
           6,
           6,
           3,
           3,
           3,
           3,
           3,
           3
          ]
         },
         "mode": "markers",
         "text": [
          "cube0_cluster1",
          "cube0_cluster0",
          "cube1_cluster0",
          "cube1_cluster1",
          "cube2_cluster1",
          "cube2_cluster0",
          "cube3_cluster0",
          "cube3_cluster1",
          "cube4_cluster0",
          "cube4_cluster1",
          "cube5_cluster1",
          "cube5_cluster0",
          "cube6_cluster1",
          "cube6_cluster0",
          "cube7_cluster0",
          "cube7_cluster1"
         ],
         "type": "scatter",
         "uid": "41c9aa55-1a2f-4567-9ab9-69fdd14c202d",
         "x": [
          1.3298159869020758,
          -0.3136637439362187,
          1.1469072827791906,
          -0.7243904444298895,
          0.328861603852895,
          -1.2048240771560235,
          -0.5309270210369076,
          -2.213903717651574,
          -1.7023498965128783,
          -1.738583887606705,
          0.25059448189813777,
          -2.731522096111749,
          -0.7390693820101548,
          2.3565112659877583,
          -0.03534566882418992,
          2.7552014817878163
         ],
         "y": [
          1.3523127368365098,
          2.2144683738047304,
          2.1985903775655498,
          1.5858858701627305,
          1.5633384015919314,
          0.4816966577040794,
          1.0439404163322545,
          0.2756200759584881,
          -0.44096509429531644,
          1.1641100580798085,
          -2.2906450815992554,
          0.9939229170012996,
          -2.546964065631075,
          -1.2652856269910393,
          -3.0504577546610956,
          -0.4471630511020971
         ]
        }
       ],
       "layout": {
        "annotations": [
         {
          "align": "left",
          "font": {
           "size": 12
          },
          "showarrow": false,
          "text": "<b>N_cubes:</b> 20 <b>Perc_overlap:</b> 0.7<br><b>Nodes:</b> 16 <b>Edges:</b> 23 <b>Total samples:</b> 87 <b>Unique_samples:</b> 32",
          "x": 0,
          "xanchor": "left",
          "xref": "paper",
          "y": -0.01,
          "yanchor": "top",
          "yref": "paper"
         }
        ],
        "autosize": false,
        "font": {
         "size": 12
        },
        "height": 500,
        "hovermode": "closest",
        "margin": {
         "b": 35,
         "l": 10,
         "r": 60,
         "t": 100
        },
        "plot_bgcolor": "rgba(240, 240, 240, 0.95)",
        "showlegend": false,
        "template": {
         "data": {
          "bar": [
           {
            "error_x": {
             "color": "#2a3f5f"
            },
            "error_y": {
             "color": "#2a3f5f"
            },
            "marker": {
             "line": {
              "color": "#E5ECF6",
              "width": 0.5
             }
            },
            "type": "bar"
           }
          ],
          "barpolar": [
           {
            "marker": {
             "line": {
              "color": "#E5ECF6",
              "width": 0.5
             }
            },
            "type": "barpolar"
           }
          ],
          "carpet": [
           {
            "aaxis": {
             "endlinecolor": "#2a3f5f",
             "gridcolor": "white",
             "linecolor": "white",
             "minorgridcolor": "white",
             "startlinecolor": "#2a3f5f"
            },
            "baxis": {
             "endlinecolor": "#2a3f5f",
             "gridcolor": "white",
             "linecolor": "white",
             "minorgridcolor": "white",
             "startlinecolor": "#2a3f5f"
            },
            "type": "carpet"
           }
          ],
          "choropleth": [
           {
            "colorbar": {
             "outlinewidth": 0,
             "ticks": ""
            },
            "type": "choropleth"
           }
          ],
          "contour": [
           {
            "colorbar": {
             "outlinewidth": 0,
             "ticks": ""
            },
            "colorscale": [
             [
              0,
              "#0d0887"
             ],
             [
              0.1111111111111111,
              "#46039f"
             ],
             [
              0.2222222222222222,
              "#7201a8"
             ],
             [
              0.3333333333333333,
              "#9c179e"
             ],
             [
              0.4444444444444444,
              "#bd3786"
             ],
             [
              0.5555555555555556,
              "#d8576b"
             ],
             [
              0.6666666666666666,
              "#ed7953"
             ],
             [
              0.7777777777777778,
              "#fb9f3a"
             ],
             [
              0.8888888888888888,
              "#fdca26"
             ],
             [
              1,
              "#f0f921"
             ]
            ],
            "type": "contour"
           }
          ],
          "contourcarpet": [
           {
            "colorbar": {
             "outlinewidth": 0,
             "ticks": ""
            },
            "type": "contourcarpet"
           }
          ],
          "heatmap": [
           {
            "colorbar": {
             "outlinewidth": 0,
             "ticks": ""
            },
            "colorscale": [
             [
              0,
              "#0d0887"
             ],
             [
              0.1111111111111111,
              "#46039f"
             ],
             [
              0.2222222222222222,
              "#7201a8"
             ],
             [
              0.3333333333333333,
              "#9c179e"
             ],
             [
              0.4444444444444444,
              "#bd3786"
             ],
             [
              0.5555555555555556,
              "#d8576b"
             ],
             [
              0.6666666666666666,
              "#ed7953"
             ],
             [
              0.7777777777777778,
              "#fb9f3a"
             ],
             [
              0.8888888888888888,
              "#fdca26"
             ],
             [
              1,
              "#f0f921"
             ]
            ],
            "type": "heatmap"
           }
          ],
          "heatmapgl": [
           {
            "colorbar": {
             "outlinewidth": 0,
             "ticks": ""
            },
            "colorscale": [
             [
              0,
              "#0d0887"
             ],
             [
              0.1111111111111111,
              "#46039f"
             ],
             [
              0.2222222222222222,
              "#7201a8"
             ],
             [
              0.3333333333333333,
              "#9c179e"
             ],
             [
              0.4444444444444444,
              "#bd3786"
             ],
             [
              0.5555555555555556,
              "#d8576b"
             ],
             [
              0.6666666666666666,
              "#ed7953"
             ],
             [
              0.7777777777777778,
              "#fb9f3a"
             ],
             [
              0.8888888888888888,
              "#fdca26"
             ],
             [
              1,
              "#f0f921"
             ]
            ],
            "type": "heatmapgl"
           }
          ],
          "histogram": [
           {
            "marker": {
             "colorbar": {
              "outlinewidth": 0,
              "ticks": ""
             }
            },
            "type": "histogram"
           }
          ],
          "histogram2d": [
           {
            "colorbar": {
             "outlinewidth": 0,
             "ticks": ""
            },
            "colorscale": [
             [
              0,
              "#0d0887"
             ],
             [
              0.1111111111111111,
              "#46039f"
             ],
             [
              0.2222222222222222,
              "#7201a8"
             ],
             [
              0.3333333333333333,
              "#9c179e"
             ],
             [
              0.4444444444444444,
              "#bd3786"
             ],
             [
              0.5555555555555556,
              "#d8576b"
             ],
             [
              0.6666666666666666,
              "#ed7953"
             ],
             [
              0.7777777777777778,
              "#fb9f3a"
             ],
             [
              0.8888888888888888,
              "#fdca26"
             ],
             [
              1,
              "#f0f921"
             ]
            ],
            "type": "histogram2d"
           }
          ],
          "histogram2dcontour": [
           {
            "colorbar": {
             "outlinewidth": 0,
             "ticks": ""
            },
            "colorscale": [
             [
              0,
              "#0d0887"
             ],
             [
              0.1111111111111111,
              "#46039f"
             ],
             [
              0.2222222222222222,
              "#7201a8"
             ],
             [
              0.3333333333333333,
              "#9c179e"
             ],
             [
              0.4444444444444444,
              "#bd3786"
             ],
             [
              0.5555555555555556,
              "#d8576b"
             ],
             [
              0.6666666666666666,
              "#ed7953"
             ],
             [
              0.7777777777777778,
              "#fb9f3a"
             ],
             [
              0.8888888888888888,
              "#fdca26"
             ],
             [
              1,
              "#f0f921"
             ]
            ],
            "type": "histogram2dcontour"
           }
          ],
          "mesh3d": [
           {
            "colorbar": {
             "outlinewidth": 0,
             "ticks": ""
            },
            "type": "mesh3d"
           }
          ],
          "parcoords": [
           {
            "line": {
             "colorbar": {
              "outlinewidth": 0,
              "ticks": ""
             }
            },
            "type": "parcoords"
           }
          ],
          "pie": [
           {
            "automargin": true,
            "type": "pie"
           }
          ],
          "scatter": [
           {
            "marker": {
             "colorbar": {
              "outlinewidth": 0,
              "ticks": ""
             }
            },
            "type": "scatter"
           }
          ],
          "scatter3d": [
           {
            "line": {
             "colorbar": {
              "outlinewidth": 0,
              "ticks": ""
             }
            },
            "marker": {
             "colorbar": {
              "outlinewidth": 0,
              "ticks": ""
             }
            },
            "type": "scatter3d"
           }
          ],
          "scattercarpet": [
           {
            "marker": {
             "colorbar": {
              "outlinewidth": 0,
              "ticks": ""
             }
            },
            "type": "scattercarpet"
           }
          ],
          "scattergeo": [
           {
            "marker": {
             "colorbar": {
              "outlinewidth": 0,
              "ticks": ""
             }
            },
            "type": "scattergeo"
           }
          ],
          "scattergl": [
           {
            "marker": {
             "colorbar": {
              "outlinewidth": 0,
              "ticks": ""
             }
            },
            "type": "scattergl"
           }
          ],
          "scattermapbox": [
           {
            "marker": {
             "colorbar": {
              "outlinewidth": 0,
              "ticks": ""
             }
            },
            "type": "scattermapbox"
           }
          ],
          "scatterpolar": [
           {
            "marker": {
             "colorbar": {
              "outlinewidth": 0,
              "ticks": ""
             }
            },
            "type": "scatterpolar"
           }
          ],
          "scatterpolargl": [
           {
            "marker": {
             "colorbar": {
              "outlinewidth": 0,
              "ticks": ""
             }
            },
            "type": "scatterpolargl"
           }
          ],
          "scatterternary": [
           {
            "marker": {
             "colorbar": {
              "outlinewidth": 0,
              "ticks": ""
             }
            },
            "type": "scatterternary"
           }
          ],
          "surface": [
           {
            "colorbar": {
             "outlinewidth": 0,
             "ticks": ""
            },
            "colorscale": [
             [
              0,
              "#0d0887"
             ],
             [
              0.1111111111111111,
              "#46039f"
             ],
             [
              0.2222222222222222,
              "#7201a8"
             ],
             [
              0.3333333333333333,
              "#9c179e"
             ],
             [
              0.4444444444444444,
              "#bd3786"
             ],
             [
              0.5555555555555556,
              "#d8576b"
             ],
             [
              0.6666666666666666,
              "#ed7953"
             ],
             [
              0.7777777777777778,
              "#fb9f3a"
             ],
             [
              0.8888888888888888,
              "#fdca26"
             ],
             [
              1,
              "#f0f921"
             ]
            ],
            "type": "surface"
           }
          ],
          "table": [
           {
            "cells": {
             "fill": {
              "color": "#EBF0F8"
             },
             "line": {
              "color": "white"
             }
            },
            "header": {
             "fill": {
              "color": "#C8D4E3"
             },
             "line": {
              "color": "white"
             }
            },
            "type": "table"
           }
          ]
         },
         "layout": {
          "annotationdefaults": {
           "arrowcolor": "#2a3f5f",
           "arrowhead": 0,
           "arrowwidth": 1
          },
          "coloraxis": {
           "colorbar": {
            "outlinewidth": 0,
            "ticks": ""
           }
          },
          "colorscale": {
           "diverging": [
            [
             0,
             "#8e0152"
            ],
            [
             0.1,
             "#c51b7d"
            ],
            [
             0.2,
             "#de77ae"
            ],
            [
             0.3,
             "#f1b6da"
            ],
            [
             0.4,
             "#fde0ef"
            ],
            [
             0.5,
             "#f7f7f7"
            ],
            [
             0.6,
             "#e6f5d0"
            ],
            [
             0.7,
             "#b8e186"
            ],
            [
             0.8,
             "#7fbc41"
            ],
            [
             0.9,
             "#4d9221"
            ],
            [
             1,
             "#276419"
            ]
           ],
           "sequential": [
            [
             0,
             "#0d0887"
            ],
            [
             0.1111111111111111,
             "#46039f"
            ],
            [
             0.2222222222222222,
             "#7201a8"
            ],
            [
             0.3333333333333333,
             "#9c179e"
            ],
            [
             0.4444444444444444,
             "#bd3786"
            ],
            [
             0.5555555555555556,
             "#d8576b"
            ],
            [
             0.6666666666666666,
             "#ed7953"
            ],
            [
             0.7777777777777778,
             "#fb9f3a"
            ],
            [
             0.8888888888888888,
             "#fdca26"
            ],
            [
             1,
             "#f0f921"
            ]
           ],
           "sequentialminus": [
            [
             0,
             "#0d0887"
            ],
            [
             0.1111111111111111,
             "#46039f"
            ],
            [
             0.2222222222222222,
             "#7201a8"
            ],
            [
             0.3333333333333333,
             "#9c179e"
            ],
            [
             0.4444444444444444,
             "#bd3786"
            ],
            [
             0.5555555555555556,
             "#d8576b"
            ],
            [
             0.6666666666666666,
             "#ed7953"
            ],
            [
             0.7777777777777778,
             "#fb9f3a"
            ],
            [
             0.8888888888888888,
             "#fdca26"
            ],
            [
             1,
             "#f0f921"
            ]
           ]
          },
          "colorway": [
           "#636efa",
           "#EF553B",
           "#00cc96",
           "#ab63fa",
           "#FFA15A",
           "#19d3f3",
           "#FF6692",
           "#B6E880",
           "#FF97FF",
           "#FECB52"
          ],
          "font": {
           "color": "#2a3f5f"
          },
          "geo": {
           "bgcolor": "white",
           "lakecolor": "white",
           "landcolor": "#E5ECF6",
           "showlakes": true,
           "showland": true,
           "subunitcolor": "white"
          },
          "hoverlabel": {
           "align": "left"
          },
          "hovermode": "closest",
          "mapbox": {
           "style": "light"
          },
          "paper_bgcolor": "white",
          "plot_bgcolor": "#E5ECF6",
          "polar": {
           "angularaxis": {
            "gridcolor": "white",
            "linecolor": "white",
            "ticks": ""
           },
           "bgcolor": "#E5ECF6",
           "radialaxis": {
            "gridcolor": "white",
            "linecolor": "white",
            "ticks": ""
           }
          },
          "scene": {
           "xaxis": {
            "backgroundcolor": "#E5ECF6",
            "gridcolor": "white",
            "gridwidth": 2,
            "linecolor": "white",
            "showbackground": true,
            "ticks": "",
            "zerolinecolor": "white"
           },
           "yaxis": {
            "backgroundcolor": "#E5ECF6",
            "gridcolor": "white",
            "gridwidth": 2,
            "linecolor": "white",
            "showbackground": true,
            "ticks": "",
            "zerolinecolor": "white"
           },
           "zaxis": {
            "backgroundcolor": "#E5ECF6",
            "gridcolor": "white",
            "gridwidth": 2,
            "linecolor": "white",
            "showbackground": true,
            "ticks": "",
            "zerolinecolor": "white"
           }
          },
          "shapedefaults": {
           "line": {
            "color": "#2a3f5f"
           }
          },
          "ternary": {
           "aaxis": {
            "gridcolor": "white",
            "linecolor": "white",
            "ticks": ""
           },
           "baxis": {
            "gridcolor": "white",
            "linecolor": "white",
            "ticks": ""
           },
           "bgcolor": "#E5ECF6",
           "caxis": {
            "gridcolor": "white",
            "linecolor": "white",
            "ticks": ""
           }
          },
          "title": {
           "x": 0.05
          },
          "xaxis": {
           "automargin": true,
           "gridcolor": "white",
           "linecolor": "white",
           "ticks": "",
           "title": {
            "standoff": 15
           },
           "zerolinecolor": "white",
           "zerolinewidth": 2
          },
          "yaxis": {
           "automargin": true,
           "gridcolor": "white",
           "linecolor": "white",
           "ticks": "",
           "title": {
            "standoff": 15
           },
           "zerolinecolor": "white",
           "zerolinewidth": 2
          }
         }
        },
        "title": {
         "text": "n=5, color=conn"
        },
        "width": 600,
        "xaxis": {
         "visible": false
        },
        "yaxis": {
         "visible": false
        }
       }
      },
      "text/html": [
       "<div>\n",
       "        \n",
       "        \n",
       "            <div id=\"27b2ebd7-247a-402d-9d86-c566af387579\" class=\"plotly-graph-div\" style=\"height:500px; width:600px;\"></div>\n",
       "            <script type=\"text/javascript\">\n",
       "                require([\"plotly\"], function(Plotly) {\n",
       "                    window.PLOTLYENV=window.PLOTLYENV || {};\n",
       "                    \n",
       "                if (document.getElementById(\"27b2ebd7-247a-402d-9d86-c566af387579\")) {\n",
       "                    Plotly.newPlot(\n",
       "                        '27b2ebd7-247a-402d-9d86-c566af387579',\n",
       "                        [{\"hoverinfo\": \"none\", \"line\": {\"color\": \"rgb(180,180,180)\", \"width\": 1.5}, \"mode\": \"lines\", \"type\": \"scatter\", \"uid\": \"137dd982-393f-42bc-96af-55648f762eda\", \"x\": [1.3298159869020758, 1.1469072827791906, null, 1.3298159869020758, 0.328861603852895, null, -0.3136637439362187, -0.7243904444298895, null, -0.3136637439362187, 0.328861603852895, null, -0.3136637439362187, -0.5309270210369076, null, 1.1469072827791906, 0.328861603852895, null, -0.7243904444298895, 0.328861603852895, null, -0.7243904444298895, -1.2048240771560235, null, -0.7243904444298895, -0.5309270210369076, null, 0.328861603852895, -0.5309270210369076, null, -1.2048240771560235, -0.5309270210369076, null, -1.2048240771560235, -2.213903717651574, null, -1.2048240771560235, -1.7023498965128783, null, -1.2048240771560235, -1.738583887606705, null, -0.5309270210369076, -1.738583887606705, null, -2.213903717651574, -1.7023498965128783, null, -2.213903717651574, -1.738583887606705, null, -2.213903717651574, -2.731522096111749, null, -1.738583887606705, -2.731522096111749, null, 0.25059448189813777, -0.7390693820101548, null, 0.25059448189813777, -0.03534566882418992, null, -0.7390693820101548, -0.03534566882418992, null, 2.3565112659877583, 2.7552014817878163, null], \"y\": [1.3523127368365098, 2.1985903775655498, null, 1.3523127368365098, 1.5633384015919314, null, 2.2144683738047304, 1.5858858701627305, null, 2.2144683738047304, 1.5633384015919314, null, 2.2144683738047304, 1.0439404163322545, null, 2.1985903775655498, 1.5633384015919314, null, 1.5858858701627305, 1.5633384015919314, null, 1.5858858701627305, 0.4816966577040794, null, 1.5858858701627305, 1.0439404163322545, null, 1.5633384015919314, 1.0439404163322545, null, 0.4816966577040794, 1.0439404163322545, null, 0.4816966577040794, 0.2756200759584881, null, 0.4816966577040794, -0.44096509429531644, null, 0.4816966577040794, 1.1641100580798085, null, 1.0439404163322545, 1.1641100580798085, null, 0.2756200759584881, -0.44096509429531644, null, 0.2756200759584881, 1.1641100580798085, null, 0.2756200759584881, 0.9939229170012996, null, 1.1641100580798085, 0.9939229170012996, null, -2.2906450815992554, -2.546964065631075, null, -2.2906450815992554, -3.0504577546610956, null, -2.546964065631075, -3.0504577546610956, null, -1.2652856269910393, -0.4471630511020971, null]}, {\"hoverinfo\": \"text\", \"marker\": {\"color\": [0.42105263157894735, 0.8, 0.42105263157894735, 0.8333333333333334, 0.6428571428571429, 0.8, 0.75, 1.0, 1.0, 0.5, 1.0, 1.0, 1.0, 1.0, 1.0, 1.0], \"colorbar\": {\"thickness\": 20, \"tickfont\": {\"size\": 10}, \"ticklen\": 4, \"x\": 1.01}, \"colorscale\": [[0.0, \"rgb(0, 0, 127)\"], [0.1, \"rgb(0, 0, 241)\"], [0.2, \"rgb(0, 76, 255)\"], [0.3, \"rgb(0, 176, 255)\"], [0.4, \"rgb(41, 255, 205)\"], [0.5, \"rgb(124, 255, 121)\"], [0.6, \"rgb(205, 255, 41)\"], [0.7, \"rgb(255, 196, 0)\"], [0.8, \"rgb(255, 103, 0)\"], [0.9, \"rgb(241, 7, 0)\"], [1.0, \"rgb(127, 0, 0)\"]], \"line\": {\"color\": \"rgb(200,200,200)\", \"width\": 1.0}, \"opacity\": 1.0, \"showscale\": true, \"size\": [9, 6, 9, 6, 9, 6, 6, 6, 6, 6, 3, 3, 3, 3, 3, 3]}, \"mode\": \"markers\", \"text\": [\"cube0_cluster1\", \"cube0_cluster0\", \"cube1_cluster0\", \"cube1_cluster1\", \"cube2_cluster1\", \"cube2_cluster0\", \"cube3_cluster0\", \"cube3_cluster1\", \"cube4_cluster0\", \"cube4_cluster1\", \"cube5_cluster1\", \"cube5_cluster0\", \"cube6_cluster1\", \"cube6_cluster0\", \"cube7_cluster0\", \"cube7_cluster1\"], \"type\": \"scatter\", \"uid\": \"41c9aa55-1a2f-4567-9ab9-69fdd14c202d\", \"x\": [1.3298159869020758, -0.3136637439362187, 1.1469072827791906, -0.7243904444298895, 0.328861603852895, -1.2048240771560235, -0.5309270210369076, -2.213903717651574, -1.7023498965128783, -1.738583887606705, 0.25059448189813777, -2.731522096111749, -0.7390693820101548, 2.3565112659877583, -0.03534566882418992, 2.7552014817878163], \"y\": [1.3523127368365098, 2.2144683738047304, 2.1985903775655498, 1.5858858701627305, 1.5633384015919314, 0.4816966577040794, 1.0439404163322545, 0.2756200759584881, -0.44096509429531644, 1.1641100580798085, -2.2906450815992554, 0.9939229170012996, -2.546964065631075, -1.2652856269910393, -3.0504577546610956, -0.4471630511020971]}],\n",
       "                        {\"annotations\": [{\"align\": \"left\", \"font\": {\"size\": 12}, \"showarrow\": false, \"text\": \"<b>N_cubes:</b> 20 <b>Perc_overlap:</b> 0.7<br><b>Nodes:</b> 16 <b>Edges:</b> 23 <b>Total samples:</b> 87 <b>Unique_samples:</b> 32\", \"x\": 0, \"xanchor\": \"left\", \"xref\": \"paper\", \"y\": -0.01, \"yanchor\": \"top\", \"yref\": \"paper\"}], \"autosize\": false, \"font\": {\"size\": 12}, \"height\": 500, \"hovermode\": \"closest\", \"margin\": {\"b\": 35, \"l\": 10, \"r\": 60, \"t\": 100}, \"plot_bgcolor\": \"rgba(240, 240, 240, 0.95)\", \"showlegend\": false, \"template\": {\"data\": {\"bar\": [{\"error_x\": {\"color\": \"#2a3f5f\"}, \"error_y\": {\"color\": \"#2a3f5f\"}, \"marker\": {\"line\": {\"color\": \"#E5ECF6\", \"width\": 0.5}}, \"type\": \"bar\"}], \"barpolar\": [{\"marker\": {\"line\": {\"color\": \"#E5ECF6\", \"width\": 0.5}}, \"type\": \"barpolar\"}], \"carpet\": [{\"aaxis\": {\"endlinecolor\": \"#2a3f5f\", \"gridcolor\": \"white\", \"linecolor\": \"white\", \"minorgridcolor\": \"white\", \"startlinecolor\": \"#2a3f5f\"}, \"baxis\": {\"endlinecolor\": \"#2a3f5f\", \"gridcolor\": \"white\", \"linecolor\": \"white\", \"minorgridcolor\": \"white\", \"startlinecolor\": \"#2a3f5f\"}, \"type\": \"carpet\"}], \"choropleth\": [{\"colorbar\": {\"outlinewidth\": 0, \"ticks\": \"\"}, \"type\": \"choropleth\"}], \"contour\": [{\"colorbar\": {\"outlinewidth\": 0, \"ticks\": \"\"}, \"colorscale\": [[0.0, \"#0d0887\"], [0.1111111111111111, \"#46039f\"], [0.2222222222222222, \"#7201a8\"], [0.3333333333333333, \"#9c179e\"], [0.4444444444444444, \"#bd3786\"], [0.5555555555555556, \"#d8576b\"], [0.6666666666666666, \"#ed7953\"], [0.7777777777777778, \"#fb9f3a\"], [0.8888888888888888, \"#fdca26\"], [1.0, \"#f0f921\"]], \"type\": \"contour\"}], \"contourcarpet\": [{\"colorbar\": {\"outlinewidth\": 0, \"ticks\": \"\"}, \"type\": \"contourcarpet\"}], \"heatmap\": [{\"colorbar\": {\"outlinewidth\": 0, \"ticks\": \"\"}, \"colorscale\": [[0.0, \"#0d0887\"], [0.1111111111111111, \"#46039f\"], [0.2222222222222222, \"#7201a8\"], [0.3333333333333333, \"#9c179e\"], [0.4444444444444444, \"#bd3786\"], [0.5555555555555556, \"#d8576b\"], [0.6666666666666666, \"#ed7953\"], [0.7777777777777778, \"#fb9f3a\"], [0.8888888888888888, \"#fdca26\"], [1.0, \"#f0f921\"]], \"type\": \"heatmap\"}], \"heatmapgl\": [{\"colorbar\": {\"outlinewidth\": 0, \"ticks\": \"\"}, \"colorscale\": [[0.0, \"#0d0887\"], [0.1111111111111111, \"#46039f\"], [0.2222222222222222, \"#7201a8\"], [0.3333333333333333, \"#9c179e\"], [0.4444444444444444, \"#bd3786\"], [0.5555555555555556, \"#d8576b\"], [0.6666666666666666, \"#ed7953\"], [0.7777777777777778, \"#fb9f3a\"], [0.8888888888888888, \"#fdca26\"], [1.0, \"#f0f921\"]], \"type\": \"heatmapgl\"}], \"histogram\": [{\"marker\": {\"colorbar\": {\"outlinewidth\": 0, \"ticks\": \"\"}}, \"type\": \"histogram\"}], \"histogram2d\": [{\"colorbar\": {\"outlinewidth\": 0, \"ticks\": \"\"}, \"colorscale\": [[0.0, \"#0d0887\"], [0.1111111111111111, \"#46039f\"], [0.2222222222222222, \"#7201a8\"], [0.3333333333333333, \"#9c179e\"], [0.4444444444444444, \"#bd3786\"], [0.5555555555555556, \"#d8576b\"], [0.6666666666666666, \"#ed7953\"], [0.7777777777777778, \"#fb9f3a\"], [0.8888888888888888, \"#fdca26\"], [1.0, \"#f0f921\"]], \"type\": \"histogram2d\"}], \"histogram2dcontour\": [{\"colorbar\": {\"outlinewidth\": 0, \"ticks\": \"\"}, \"colorscale\": [[0.0, \"#0d0887\"], [0.1111111111111111, \"#46039f\"], [0.2222222222222222, \"#7201a8\"], [0.3333333333333333, \"#9c179e\"], [0.4444444444444444, \"#bd3786\"], [0.5555555555555556, \"#d8576b\"], [0.6666666666666666, \"#ed7953\"], [0.7777777777777778, \"#fb9f3a\"], [0.8888888888888888, \"#fdca26\"], [1.0, \"#f0f921\"]], \"type\": \"histogram2dcontour\"}], \"mesh3d\": [{\"colorbar\": {\"outlinewidth\": 0, \"ticks\": \"\"}, \"type\": \"mesh3d\"}], \"parcoords\": [{\"line\": {\"colorbar\": {\"outlinewidth\": 0, \"ticks\": \"\"}}, \"type\": \"parcoords\"}], \"pie\": [{\"automargin\": true, \"type\": \"pie\"}], \"scatter\": [{\"marker\": {\"colorbar\": {\"outlinewidth\": 0, \"ticks\": \"\"}}, \"type\": \"scatter\"}], \"scatter3d\": [{\"line\": {\"colorbar\": {\"outlinewidth\": 0, \"ticks\": \"\"}}, \"marker\": {\"colorbar\": {\"outlinewidth\": 0, \"ticks\": \"\"}}, \"type\": \"scatter3d\"}], \"scattercarpet\": [{\"marker\": {\"colorbar\": {\"outlinewidth\": 0, \"ticks\": \"\"}}, \"type\": \"scattercarpet\"}], \"scattergeo\": [{\"marker\": {\"colorbar\": {\"outlinewidth\": 0, \"ticks\": \"\"}}, \"type\": \"scattergeo\"}], \"scattergl\": [{\"marker\": {\"colorbar\": {\"outlinewidth\": 0, \"ticks\": \"\"}}, \"type\": \"scattergl\"}], \"scattermapbox\": [{\"marker\": {\"colorbar\": {\"outlinewidth\": 0, \"ticks\": \"\"}}, \"type\": \"scattermapbox\"}], \"scatterpolar\": [{\"marker\": {\"colorbar\": {\"outlinewidth\": 0, \"ticks\": \"\"}}, \"type\": \"scatterpolar\"}], \"scatterpolargl\": [{\"marker\": {\"colorbar\": {\"outlinewidth\": 0, \"ticks\": \"\"}}, \"type\": \"scatterpolargl\"}], \"scatterternary\": [{\"marker\": {\"colorbar\": {\"outlinewidth\": 0, \"ticks\": \"\"}}, \"type\": \"scatterternary\"}], \"surface\": [{\"colorbar\": {\"outlinewidth\": 0, \"ticks\": \"\"}, \"colorscale\": [[0.0, \"#0d0887\"], [0.1111111111111111, \"#46039f\"], [0.2222222222222222, \"#7201a8\"], [0.3333333333333333, \"#9c179e\"], [0.4444444444444444, \"#bd3786\"], [0.5555555555555556, \"#d8576b\"], [0.6666666666666666, \"#ed7953\"], [0.7777777777777778, \"#fb9f3a\"], [0.8888888888888888, \"#fdca26\"], [1.0, \"#f0f921\"]], \"type\": \"surface\"}], \"table\": [{\"cells\": {\"fill\": {\"color\": \"#EBF0F8\"}, \"line\": {\"color\": \"white\"}}, \"header\": {\"fill\": {\"color\": \"#C8D4E3\"}, \"line\": {\"color\": \"white\"}}, \"type\": \"table\"}]}, \"layout\": {\"annotationdefaults\": {\"arrowcolor\": \"#2a3f5f\", \"arrowhead\": 0, \"arrowwidth\": 1}, \"coloraxis\": {\"colorbar\": {\"outlinewidth\": 0, \"ticks\": \"\"}}, \"colorscale\": {\"diverging\": [[0, \"#8e0152\"], [0.1, \"#c51b7d\"], [0.2, \"#de77ae\"], [0.3, \"#f1b6da\"], [0.4, \"#fde0ef\"], [0.5, \"#f7f7f7\"], [0.6, \"#e6f5d0\"], [0.7, \"#b8e186\"], [0.8, \"#7fbc41\"], [0.9, \"#4d9221\"], [1, \"#276419\"]], \"sequential\": [[0.0, \"#0d0887\"], [0.1111111111111111, \"#46039f\"], [0.2222222222222222, \"#7201a8\"], [0.3333333333333333, \"#9c179e\"], [0.4444444444444444, \"#bd3786\"], [0.5555555555555556, \"#d8576b\"], [0.6666666666666666, \"#ed7953\"], [0.7777777777777778, \"#fb9f3a\"], [0.8888888888888888, \"#fdca26\"], [1.0, \"#f0f921\"]], \"sequentialminus\": [[0.0, \"#0d0887\"], [0.1111111111111111, \"#46039f\"], [0.2222222222222222, \"#7201a8\"], [0.3333333333333333, \"#9c179e\"], [0.4444444444444444, \"#bd3786\"], [0.5555555555555556, \"#d8576b\"], [0.6666666666666666, \"#ed7953\"], [0.7777777777777778, \"#fb9f3a\"], [0.8888888888888888, \"#fdca26\"], [1.0, \"#f0f921\"]]}, \"colorway\": [\"#636efa\", \"#EF553B\", \"#00cc96\", \"#ab63fa\", \"#FFA15A\", \"#19d3f3\", \"#FF6692\", \"#B6E880\", \"#FF97FF\", \"#FECB52\"], \"font\": {\"color\": \"#2a3f5f\"}, \"geo\": {\"bgcolor\": \"white\", \"lakecolor\": \"white\", \"landcolor\": \"#E5ECF6\", \"showlakes\": true, \"showland\": true, \"subunitcolor\": \"white\"}, \"hoverlabel\": {\"align\": \"left\"}, \"hovermode\": \"closest\", \"mapbox\": {\"style\": \"light\"}, \"paper_bgcolor\": \"white\", \"plot_bgcolor\": \"#E5ECF6\", \"polar\": {\"angularaxis\": {\"gridcolor\": \"white\", \"linecolor\": \"white\", \"ticks\": \"\"}, \"bgcolor\": \"#E5ECF6\", \"radialaxis\": {\"gridcolor\": \"white\", \"linecolor\": \"white\", \"ticks\": \"\"}}, \"scene\": {\"xaxis\": {\"backgroundcolor\": \"#E5ECF6\", \"gridcolor\": \"white\", \"gridwidth\": 2, \"linecolor\": \"white\", \"showbackground\": true, \"ticks\": \"\", \"zerolinecolor\": \"white\"}, \"yaxis\": {\"backgroundcolor\": \"#E5ECF6\", \"gridcolor\": \"white\", \"gridwidth\": 2, \"linecolor\": \"white\", \"showbackground\": true, \"ticks\": \"\", \"zerolinecolor\": \"white\"}, \"zaxis\": {\"backgroundcolor\": \"#E5ECF6\", \"gridcolor\": \"white\", \"gridwidth\": 2, \"linecolor\": \"white\", \"showbackground\": true, \"ticks\": \"\", \"zerolinecolor\": \"white\"}}, \"shapedefaults\": {\"line\": {\"color\": \"#2a3f5f\"}}, \"ternary\": {\"aaxis\": {\"gridcolor\": \"white\", \"linecolor\": \"white\", \"ticks\": \"\"}, \"baxis\": {\"gridcolor\": \"white\", \"linecolor\": \"white\", \"ticks\": \"\"}, \"bgcolor\": \"#E5ECF6\", \"caxis\": {\"gridcolor\": \"white\", \"linecolor\": \"white\", \"ticks\": \"\"}}, \"title\": {\"x\": 0.05}, \"xaxis\": {\"automargin\": true, \"gridcolor\": \"white\", \"linecolor\": \"white\", \"ticks\": \"\", \"title\": {\"standoff\": 15}, \"zerolinecolor\": \"white\", \"zerolinewidth\": 2}, \"yaxis\": {\"automargin\": true, \"gridcolor\": \"white\", \"linecolor\": \"white\", \"ticks\": \"\", \"title\": {\"standoff\": 15}, \"zerolinecolor\": \"white\", \"zerolinewidth\": 2}}}, \"title\": {\"text\": \"n=5, color=conn\"}, \"width\": 600, \"xaxis\": {\"visible\": false}, \"yaxis\": {\"visible\": false}},\n",
       "                        {\"responsive\": true}\n",
       "                    ).then(function(){\n",
       "                            \n",
       "var gd = document.getElementById('27b2ebd7-247a-402d-9d86-c566af387579');\n",
       "var x = new MutationObserver(function (mutations, observer) {{\n",
       "        var display = window.getComputedStyle(gd).display;\n",
       "        if (!display || display === 'none') {{\n",
       "            console.log([gd, 'removed!']);\n",
       "            Plotly.purge(gd);\n",
       "            observer.disconnect();\n",
       "        }}\n",
       "}});\n",
       "\n",
       "// Listen for the removal of the full notebook cells\n",
       "var notebookContainer = gd.closest('#notebook-container');\n",
       "if (notebookContainer) {{\n",
       "    x.observe(notebookContainer, {childList: true});\n",
       "}}\n",
       "\n",
       "// Listen for the clearing of the current output cell\n",
       "var outputEl = gd.closest('.output');\n",
       "if (outputEl) {{\n",
       "    x.observe(outputEl, {childList: true});\n",
       "}}\n",
       "\n",
       "                        })\n",
       "                };\n",
       "                });\n",
       "            </script>\n",
       "        </div>"
      ]
     },
     "metadata": {},
     "output_type": "display_data"
    }
   ],
   "source": [
    "for inv in ['num-edges', 'cc', 'conn']:\n",
    "    path = '../data/inv/graph%d.%s.csv' % (GRAPH_N, inv)\n",
    "    colors = np.genfromtxt(path)\n",
    "    title = 'n=%d, color=%s' % (GRAPH_N, inv)\n",
    "    vis = plotlyviz(graph, title=title, colorscale=pl_jet, color_function=colors, width=600, height=500, graph_layout='kk')\n",
    "    vis.show()"
   ]
  },
  {
   "cell_type": "code",
   "execution_count": 27,
   "metadata": {},
   "outputs": [
    {
     "name": "stdout",
     "output_type": "stream",
     "text": [
      "cube0_cluster1:[0, 1, 2, 3, 4, 5, 6, 7, 8, 9, 10, 11, 12, 13, 15, 19, 20, 21, 26]\n",
      "cube0_cluster0:[14, 16, 22, 24, 27]\n",
      "cube1_cluster0:[0, 1, 2, 3, 4, 5, 6, 7, 8, 9, 10, 11, 12, 13, 15, 19, 20, 21, 26]\n",
      "cube1_cluster1:[14, 16, 17, 22, 24, 27]\n",
      "cube2_cluster1:[7, 9, 11, 12, 13, 14, 15, 16, 19, 21, 22, 24, 26, 27]\n",
      "cube2_cluster0:[17, 18, 23, 25, 28]\n",
      "cube3_cluster0:[17, 22, 23, 27]\n",
      "cube3_cluster1:[18, 25, 28, 30]\n",
      "cube4_cluster0:[18, 25, 28]\n",
      "cube4_cluster1:[23, 30]\n",
      "cube5_cluster1:[29]\n",
      "cube5_cluster0:[30]\n",
      "cube6_cluster1:[29]\n",
      "cube6_cluster0:[31]\n",
      "cube7_cluster0:[29]\n",
      "cube7_cluster1:[31]\n"
     ]
    }
   ],
   "source": [
    "for node, data in graph['nodes'].items():\n",
    "    print('%s:%s' % (node, data))"
   ]
  },
  {
   "cell_type": "code",
   "execution_count": null,
   "metadata": {},
   "outputs": [],
   "source": []
  }
 ],
 "metadata": {
  "kernelspec": {
   "display_name": "Python 3",
   "language": "python",
   "name": "python3"
  },
  "language_info": {
   "codemirror_mode": {
    "name": "ipython",
    "version": 3
   },
   "file_extension": ".py",
   "mimetype": "text/x-python",
   "name": "python",
   "nbconvert_exporter": "python",
   "pygments_lexer": "ipython3",
   "version": "3.7.2"
  }
 },
 "nbformat": 4,
 "nbformat_minor": 2
}
